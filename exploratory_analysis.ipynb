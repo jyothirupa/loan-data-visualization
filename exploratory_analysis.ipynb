{
 "cells": [
  {
   "cell_type": "markdown",
   "metadata": {},
   "source": [
    "# Exploratory Analysis of Loan Data from Prosper\n",
    "\n",
    "## Preliminary Wrangling\n",
    "\n",
    "This notebook explores a dataset containing 113,937 loans with 81 fields on each loan."
   ]
  },
  {
   "cell_type": "code",
   "execution_count": 1,
   "metadata": {},
   "outputs": [],
   "source": [
    "# importing all necessary packages and setting plots to be embedded inline\n",
    "import numpy as np\n",
    "import pandas as pd\n",
    "import matplotlib.pyplot as plt\n",
    "import seaborn as sb\n",
    "\n",
    "%matplotlib inline"
   ]
  },
  {
   "cell_type": "markdown",
   "metadata": {},
   "source": [
    "> Loading the data into a dataframe"
   ]
  },
  {
   "cell_type": "code",
   "execution_count": 2,
   "metadata": {},
   "outputs": [
    {
     "data": {
      "text/html": [
       "<div>\n",
       "<style scoped>\n",
       "    .dataframe tbody tr th:only-of-type {\n",
       "        vertical-align: middle;\n",
       "    }\n",
       "\n",
       "    .dataframe tbody tr th {\n",
       "        vertical-align: top;\n",
       "    }\n",
       "\n",
       "    .dataframe thead th {\n",
       "        text-align: right;\n",
       "    }\n",
       "</style>\n",
       "<table border=\"1\" class=\"dataframe\">\n",
       "  <thead>\n",
       "    <tr style=\"text-align: right;\">\n",
       "      <th></th>\n",
       "      <th>ListingKey</th>\n",
       "      <th>ListingNumber</th>\n",
       "      <th>ListingCreationDate</th>\n",
       "      <th>CreditGrade</th>\n",
       "      <th>Term</th>\n",
       "      <th>LoanStatus</th>\n",
       "      <th>ClosedDate</th>\n",
       "      <th>BorrowerAPR</th>\n",
       "      <th>BorrowerRate</th>\n",
       "      <th>LenderYield</th>\n",
       "      <th>...</th>\n",
       "      <th>LP_ServiceFees</th>\n",
       "      <th>LP_CollectionFees</th>\n",
       "      <th>LP_GrossPrincipalLoss</th>\n",
       "      <th>LP_NetPrincipalLoss</th>\n",
       "      <th>LP_NonPrincipalRecoverypayments</th>\n",
       "      <th>PercentFunded</th>\n",
       "      <th>Recommendations</th>\n",
       "      <th>InvestmentFromFriendsCount</th>\n",
       "      <th>InvestmentFromFriendsAmount</th>\n",
       "      <th>Investors</th>\n",
       "    </tr>\n",
       "  </thead>\n",
       "  <tbody>\n",
       "    <tr>\n",
       "      <th>0</th>\n",
       "      <td>1021339766868145413AB3B</td>\n",
       "      <td>193129</td>\n",
       "      <td>2007-08-26 19:09:29.263000000</td>\n",
       "      <td>C</td>\n",
       "      <td>36</td>\n",
       "      <td>Completed</td>\n",
       "      <td>2009-08-14 00:00:00</td>\n",
       "      <td>0.16516</td>\n",
       "      <td>0.1580</td>\n",
       "      <td>0.1380</td>\n",
       "      <td>...</td>\n",
       "      <td>-133.18</td>\n",
       "      <td>0.0</td>\n",
       "      <td>0.0</td>\n",
       "      <td>0.0</td>\n",
       "      <td>0.0</td>\n",
       "      <td>1.0</td>\n",
       "      <td>0</td>\n",
       "      <td>0</td>\n",
       "      <td>0.0</td>\n",
       "      <td>258</td>\n",
       "    </tr>\n",
       "    <tr>\n",
       "      <th>1</th>\n",
       "      <td>10273602499503308B223C1</td>\n",
       "      <td>1209647</td>\n",
       "      <td>2014-02-27 08:28:07.900000000</td>\n",
       "      <td>NaN</td>\n",
       "      <td>36</td>\n",
       "      <td>Current</td>\n",
       "      <td>NaN</td>\n",
       "      <td>0.12016</td>\n",
       "      <td>0.0920</td>\n",
       "      <td>0.0820</td>\n",
       "      <td>...</td>\n",
       "      <td>0.00</td>\n",
       "      <td>0.0</td>\n",
       "      <td>0.0</td>\n",
       "      <td>0.0</td>\n",
       "      <td>0.0</td>\n",
       "      <td>1.0</td>\n",
       "      <td>0</td>\n",
       "      <td>0</td>\n",
       "      <td>0.0</td>\n",
       "      <td>1</td>\n",
       "    </tr>\n",
       "    <tr>\n",
       "      <th>2</th>\n",
       "      <td>0EE9337825851032864889A</td>\n",
       "      <td>81716</td>\n",
       "      <td>2007-01-05 15:00:47.090000000</td>\n",
       "      <td>HR</td>\n",
       "      <td>36</td>\n",
       "      <td>Completed</td>\n",
       "      <td>2009-12-17 00:00:00</td>\n",
       "      <td>0.28269</td>\n",
       "      <td>0.2750</td>\n",
       "      <td>0.2400</td>\n",
       "      <td>...</td>\n",
       "      <td>-24.20</td>\n",
       "      <td>0.0</td>\n",
       "      <td>0.0</td>\n",
       "      <td>0.0</td>\n",
       "      <td>0.0</td>\n",
       "      <td>1.0</td>\n",
       "      <td>0</td>\n",
       "      <td>0</td>\n",
       "      <td>0.0</td>\n",
       "      <td>41</td>\n",
       "    </tr>\n",
       "    <tr>\n",
       "      <th>3</th>\n",
       "      <td>0EF5356002482715299901A</td>\n",
       "      <td>658116</td>\n",
       "      <td>2012-10-22 11:02:35.010000000</td>\n",
       "      <td>NaN</td>\n",
       "      <td>36</td>\n",
       "      <td>Current</td>\n",
       "      <td>NaN</td>\n",
       "      <td>0.12528</td>\n",
       "      <td>0.0974</td>\n",
       "      <td>0.0874</td>\n",
       "      <td>...</td>\n",
       "      <td>-108.01</td>\n",
       "      <td>0.0</td>\n",
       "      <td>0.0</td>\n",
       "      <td>0.0</td>\n",
       "      <td>0.0</td>\n",
       "      <td>1.0</td>\n",
       "      <td>0</td>\n",
       "      <td>0</td>\n",
       "      <td>0.0</td>\n",
       "      <td>158</td>\n",
       "    </tr>\n",
       "    <tr>\n",
       "      <th>4</th>\n",
       "      <td>0F023589499656230C5E3E2</td>\n",
       "      <td>909464</td>\n",
       "      <td>2013-09-14 18:38:39.097000000</td>\n",
       "      <td>NaN</td>\n",
       "      <td>36</td>\n",
       "      <td>Current</td>\n",
       "      <td>NaN</td>\n",
       "      <td>0.24614</td>\n",
       "      <td>0.2085</td>\n",
       "      <td>0.1985</td>\n",
       "      <td>...</td>\n",
       "      <td>-60.27</td>\n",
       "      <td>0.0</td>\n",
       "      <td>0.0</td>\n",
       "      <td>0.0</td>\n",
       "      <td>0.0</td>\n",
       "      <td>1.0</td>\n",
       "      <td>0</td>\n",
       "      <td>0</td>\n",
       "      <td>0.0</td>\n",
       "      <td>20</td>\n",
       "    </tr>\n",
       "  </tbody>\n",
       "</table>\n",
       "<p>5 rows × 81 columns</p>\n",
       "</div>"
      ],
      "text/plain": [
       "                ListingKey  ListingNumber            ListingCreationDate  \\\n",
       "0  1021339766868145413AB3B         193129  2007-08-26 19:09:29.263000000   \n",
       "1  10273602499503308B223C1        1209647  2014-02-27 08:28:07.900000000   \n",
       "2  0EE9337825851032864889A          81716  2007-01-05 15:00:47.090000000   \n",
       "3  0EF5356002482715299901A         658116  2012-10-22 11:02:35.010000000   \n",
       "4  0F023589499656230C5E3E2         909464  2013-09-14 18:38:39.097000000   \n",
       "\n",
       "  CreditGrade  Term LoanStatus           ClosedDate  BorrowerAPR  \\\n",
       "0           C    36  Completed  2009-08-14 00:00:00      0.16516   \n",
       "1         NaN    36    Current                  NaN      0.12016   \n",
       "2          HR    36  Completed  2009-12-17 00:00:00      0.28269   \n",
       "3         NaN    36    Current                  NaN      0.12528   \n",
       "4         NaN    36    Current                  NaN      0.24614   \n",
       "\n",
       "   BorrowerRate  LenderYield  ...  LP_ServiceFees  LP_CollectionFees  \\\n",
       "0        0.1580       0.1380  ...         -133.18                0.0   \n",
       "1        0.0920       0.0820  ...            0.00                0.0   \n",
       "2        0.2750       0.2400  ...          -24.20                0.0   \n",
       "3        0.0974       0.0874  ...         -108.01                0.0   \n",
       "4        0.2085       0.1985  ...          -60.27                0.0   \n",
       "\n",
       "   LP_GrossPrincipalLoss  LP_NetPrincipalLoss LP_NonPrincipalRecoverypayments  \\\n",
       "0                    0.0                  0.0                             0.0   \n",
       "1                    0.0                  0.0                             0.0   \n",
       "2                    0.0                  0.0                             0.0   \n",
       "3                    0.0                  0.0                             0.0   \n",
       "4                    0.0                  0.0                             0.0   \n",
       "\n",
       "   PercentFunded  Recommendations InvestmentFromFriendsCount  \\\n",
       "0            1.0                0                          0   \n",
       "1            1.0                0                          0   \n",
       "2            1.0                0                          0   \n",
       "3            1.0                0                          0   \n",
       "4            1.0                0                          0   \n",
       "\n",
       "  InvestmentFromFriendsAmount Investors  \n",
       "0                         0.0       258  \n",
       "1                         0.0         1  \n",
       "2                         0.0        41  \n",
       "3                         0.0       158  \n",
       "4                         0.0        20  \n",
       "\n",
       "[5 rows x 81 columns]"
      ]
     },
     "execution_count": 2,
     "metadata": {},
     "output_type": "execute_result"
    }
   ],
   "source": [
    "# reading the CSV and loading the data into a dataframe\n",
    "loan_data = pd.read_csv('prosperLoanData.csv', index_col=None)\n",
    "loan_data.head()"
   ]
  },
  {
   "cell_type": "code",
   "execution_count": 3,
   "metadata": {},
   "outputs": [
    {
     "data": {
      "text/plain": [
       "(113937, 81)"
      ]
     },
     "execution_count": 3,
     "metadata": {},
     "output_type": "execute_result"
    }
   ],
   "source": [
    "# getting the shape of the dataset\n",
    "loan_data.shape"
   ]
  },
  {
   "cell_type": "code",
   "execution_count": 4,
   "metadata": {},
   "outputs": [
    {
     "data": {
      "text/plain": [
       "dtype('<M8[ns]')"
      ]
     },
     "execution_count": 4,
     "metadata": {},
     "output_type": "execute_result"
    }
   ],
   "source": [
    "# converting loan origination date to datetime format\n",
    "loan_data.LoanOriginationDate = pd.to_datetime(loan_data.LoanOriginationDate)\n",
    "loan_data.LoanOriginationDate.dtype"
   ]
  },
  {
   "cell_type": "code",
   "execution_count": 5,
   "metadata": {},
   "outputs": [],
   "source": [
    "# sorting loan data in ascending order of loan origination date\n",
    "loan_data = loan_data.sort_values(by='LoanOriginationDate')"
   ]
  },
  {
   "cell_type": "markdown",
   "metadata": {},
   "source": [
    "There are 81 fields available for each of the loan records. We will focus on only a few (20 fields) of these fields for further exploratory analysis. So, we can remove the rest of the fields from the dataset."
   ]
  },
  {
   "cell_type": "code",
   "execution_count": 6,
   "metadata": {},
   "outputs": [
    {
     "data": {
      "text/plain": [
       "(113937, 11)"
      ]
     },
     "execution_count": 6,
     "metadata": {},
     "output_type": "execute_result"
    }
   ],
   "source": [
    "# retaining only the required columns in the dataframe\n",
    "loan_data = loan_data[['LoanNumber', 'LoanOriginalAmount', 'LoanOriginationQuarter', 'Term', 'LoanStatus', 'BorrowerAPR', 'ProsperRating (Alpha)', 'EmploymentStatus', 'EmploymentStatusDuration', 'StatedMonthlyIncome', 'IsBorrowerHomeowner']]\n",
    "loan_data.shape"
   ]
  },
  {
   "cell_type": "code",
   "execution_count": 7,
   "metadata": {},
   "outputs": [
    {
     "data": {
      "text/html": [
       "<div>\n",
       "<style scoped>\n",
       "    .dataframe tbody tr th:only-of-type {\n",
       "        vertical-align: middle;\n",
       "    }\n",
       "\n",
       "    .dataframe tbody tr th {\n",
       "        vertical-align: top;\n",
       "    }\n",
       "\n",
       "    .dataframe thead th {\n",
       "        text-align: right;\n",
       "    }\n",
       "</style>\n",
       "<table border=\"1\" class=\"dataframe\">\n",
       "  <thead>\n",
       "    <tr style=\"text-align: right;\">\n",
       "      <th></th>\n",
       "      <th>loan_number</th>\n",
       "      <th>loan_original_amount</th>\n",
       "      <th>loan_origination_quarter</th>\n",
       "      <th>term</th>\n",
       "      <th>loan_status</th>\n",
       "      <th>borrower_APR</th>\n",
       "      <th>prosper_rating</th>\n",
       "      <th>employment_status</th>\n",
       "      <th>employment_status_duration</th>\n",
       "      <th>stated_monthly_income</th>\n",
       "      <th>is_borrower_homeowner</th>\n",
       "    </tr>\n",
       "  </thead>\n",
       "  <tbody>\n",
       "    <tr>\n",
       "      <th>113921</th>\n",
       "      <td>1</td>\n",
       "      <td>1000</td>\n",
       "      <td>Q4 2005</td>\n",
       "      <td>36</td>\n",
       "      <td>Completed</td>\n",
       "      <td>NaN</td>\n",
       "      <td>NaN</td>\n",
       "      <td>NaN</td>\n",
       "      <td>NaN</td>\n",
       "      <td>12500.000000</td>\n",
       "      <td>False</td>\n",
       "    </tr>\n",
       "    <tr>\n",
       "      <th>62297</th>\n",
       "      <td>2</td>\n",
       "      <td>1000</td>\n",
       "      <td>Q4 2005</td>\n",
       "      <td>36</td>\n",
       "      <td>Completed</td>\n",
       "      <td>NaN</td>\n",
       "      <td>NaN</td>\n",
       "      <td>NaN</td>\n",
       "      <td>NaN</td>\n",
       "      <td>10000.000000</td>\n",
       "      <td>False</td>\n",
       "    </tr>\n",
       "    <tr>\n",
       "      <th>78414</th>\n",
       "      <td>3</td>\n",
       "      <td>2000</td>\n",
       "      <td>Q4 2005</td>\n",
       "      <td>36</td>\n",
       "      <td>Completed</td>\n",
       "      <td>NaN</td>\n",
       "      <td>NaN</td>\n",
       "      <td>NaN</td>\n",
       "      <td>NaN</td>\n",
       "      <td>8333.333333</td>\n",
       "      <td>False</td>\n",
       "    </tr>\n",
       "    <tr>\n",
       "      <th>73945</th>\n",
       "      <td>4</td>\n",
       "      <td>2500</td>\n",
       "      <td>Q4 2005</td>\n",
       "      <td>36</td>\n",
       "      <td>Completed</td>\n",
       "      <td>NaN</td>\n",
       "      <td>NaN</td>\n",
       "      <td>NaN</td>\n",
       "      <td>NaN</td>\n",
       "      <td>29166.666667</td>\n",
       "      <td>False</td>\n",
       "    </tr>\n",
       "    <tr>\n",
       "      <th>25166</th>\n",
       "      <td>5</td>\n",
       "      <td>1000</td>\n",
       "      <td>Q4 2005</td>\n",
       "      <td>36</td>\n",
       "      <td>Completed</td>\n",
       "      <td>NaN</td>\n",
       "      <td>NaN</td>\n",
       "      <td>NaN</td>\n",
       "      <td>NaN</td>\n",
       "      <td>9166.666667</td>\n",
       "      <td>False</td>\n",
       "    </tr>\n",
       "  </tbody>\n",
       "</table>\n",
       "</div>"
      ],
      "text/plain": [
       "        loan_number  loan_original_amount loan_origination_quarter  term  \\\n",
       "113921            1                  1000                  Q4 2005    36   \n",
       "62297             2                  1000                  Q4 2005    36   \n",
       "78414             3                  2000                  Q4 2005    36   \n",
       "73945             4                  2500                  Q4 2005    36   \n",
       "25166             5                  1000                  Q4 2005    36   \n",
       "\n",
       "       loan_status  borrower_APR prosper_rating employment_status  \\\n",
       "113921   Completed           NaN            NaN               NaN   \n",
       "62297    Completed           NaN            NaN               NaN   \n",
       "78414    Completed           NaN            NaN               NaN   \n",
       "73945    Completed           NaN            NaN               NaN   \n",
       "25166    Completed           NaN            NaN               NaN   \n",
       "\n",
       "        employment_status_duration  stated_monthly_income  \\\n",
       "113921                         NaN           12500.000000   \n",
       "62297                          NaN           10000.000000   \n",
       "78414                          NaN            8333.333333   \n",
       "73945                          NaN           29166.666667   \n",
       "25166                          NaN            9166.666667   \n",
       "\n",
       "        is_borrower_homeowner  \n",
       "113921                  False  \n",
       "62297                   False  \n",
       "78414                   False  \n",
       "73945                   False  \n",
       "25166                   False  "
      ]
     },
     "execution_count": 7,
     "metadata": {},
     "output_type": "execute_result"
    }
   ],
   "source": [
    "# renaming the columns\n",
    "loan_data.columns = ['loan_number', 'loan_original_amount', 'loan_origination_quarter', 'term', 'loan_status', \n",
    "                     'borrower_APR', 'prosper_rating', 'employment_status', 'employment_status_duration', \n",
    "                     'stated_monthly_income', 'is_borrower_homeowner']\n",
    "loan_data.head()"
   ]
  },
  {
   "cell_type": "code",
   "execution_count": 8,
   "metadata": {},
   "outputs": [
    {
     "name": "stdout",
     "output_type": "stream",
     "text": [
      "<class 'pandas.core.frame.DataFrame'>\n",
      "Int64Index: 113937 entries, 113921 to 31260\n",
      "Data columns (total 11 columns):\n",
      " #   Column                      Non-Null Count   Dtype  \n",
      "---  ------                      --------------   -----  \n",
      " 0   loan_number                 113937 non-null  int64  \n",
      " 1   loan_original_amount        113937 non-null  int64  \n",
      " 2   loan_origination_quarter    113937 non-null  object \n",
      " 3   term                        113937 non-null  int64  \n",
      " 4   loan_status                 113937 non-null  object \n",
      " 5   borrower_APR                113912 non-null  float64\n",
      " 6   prosper_rating              84853 non-null   object \n",
      " 7   employment_status           111682 non-null  object \n",
      " 8   employment_status_duration  106312 non-null  float64\n",
      " 9   stated_monthly_income       113937 non-null  float64\n",
      " 10  is_borrower_homeowner       113937 non-null  bool   \n",
      "dtypes: bool(1), float64(3), int64(3), object(4)\n",
      "memory usage: 9.7+ MB\n"
     ]
    }
   ],
   "source": [
    "# getting information regarding data type and missing values for each field\n",
    "loan_data.info()"
   ]
  },
  {
   "cell_type": "markdown",
   "metadata": {},
   "source": [
    "> Handling the missing values and changing data types of fields (wherever necessary) in the dataset"
   ]
  },
  {
   "cell_type": "markdown",
   "metadata": {},
   "source": [
    "We observe that the following fields have missing values - `prosper_rating`, `borrower_APR`, `employment_status` and `employment_status_duration`"
   ]
  },
  {
   "cell_type": "markdown",
   "metadata": {},
   "source": [
    "The data types of the fields should also be checked before proceeding with the exploratory analysis. `employment_status`, `prosper_rating`, `loan_origination_quarter` and `loan_status` should be categorical fields rather than strings."
   ]
  },
  {
   "cell_type": "markdown",
   "metadata": {},
   "source": [
    "(1) `prosper_rating`"
   ]
  },
  {
   "cell_type": "markdown",
   "metadata": {},
   "source": [
    "> The prosper rating is said to be available only for the loans originated after July 2009. The missing values could be because the loan was originated before the third quarter (Q3) of 2009. Let's check this."
   ]
  },
  {
   "cell_type": "code",
   "execution_count": 9,
   "metadata": {},
   "outputs": [
    {
     "data": {
      "text/plain": [
       "array(['Q4 2005', 'Q1 2006', 'Q2 2006', 'Q3 2006', 'Q4 2006', 'Q1 2007',\n",
       "       'Q2 2007', 'Q3 2007', 'Q4 2007', 'Q1 2008', 'Q2 2008', 'Q3 2008',\n",
       "       'Q4 2008', 'Q2 2009', 'Q3 2009', 'Q4 2009', 'Q1 2010', 'Q2 2010',\n",
       "       'Q3 2010', 'Q4 2010'], dtype=object)"
      ]
     },
     "execution_count": 9,
     "metadata": {},
     "output_type": "execute_result"
    }
   ],
   "source": [
    "# getting the unique qurters of loan origination for records with missing prosper rating\n",
    "loan_data[loan_data.prosper_rating.isnull()].loan_origination_quarter.unique()"
   ]
  },
  {
   "cell_type": "markdown",
   "metadata": {},
   "source": [
    "> We can remove the records where prosper rating is not available and loan origination quarter is Q3 2009 & later."
   ]
  },
  {
   "cell_type": "code",
   "execution_count": 10,
   "metadata": {},
   "outputs": [
    {
     "data": {
      "text/plain": [
       "131"
      ]
     },
     "execution_count": 10,
     "metadata": {},
     "output_type": "execute_result"
    }
   ],
   "source": [
    "# getting the number of records to be dropped\n",
    "loan_data[(loan_data.prosper_rating.isnull()) & (loan_data.loan_origination_quarter.isin(['Q3 2009', 'Q4 2009', 'Q1 2010', 'Q2 2010', 'Q3 2010', 'Q4 2010']))].count()[0]"
   ]
  },
  {
   "cell_type": "code",
   "execution_count": 11,
   "metadata": {},
   "outputs": [
    {
     "data": {
      "text/plain": [
       "(113806, 11)"
      ]
     },
     "execution_count": 11,
     "metadata": {},
     "output_type": "execute_result"
    }
   ],
   "source": [
    "# dropping the records with missing values which cannot be imputed\n",
    "loan_data_to_be_dropped = loan_data[(loan_data.prosper_rating.isnull()) & (loan_data.loan_origination_quarter.isin(['Q3 2009', 'Q4 2009', 'Q1 2010', 'Q2 2010', 'Q3 2010', 'Q4 2010']))]\n",
    "\n",
    "loan_data.drop(loan_data_to_be_dropped.index, inplace=True)\n",
    "loan_data.shape"
   ]
  },
  {
   "cell_type": "code",
   "execution_count": 12,
   "metadata": {},
   "outputs": [
    {
     "data": {
      "text/plain": [
       "array([nan, 'AA', 'E', 'C', 'D', 'A', 'HR', 'B'], dtype=object)"
      ]
     },
     "execution_count": 12,
     "metadata": {},
     "output_type": "execute_result"
    }
   ],
   "source": [
    "# getting the unique values of prosper rating\n",
    "loan_data.prosper_rating.unique()"
   ]
  },
  {
   "cell_type": "code",
   "execution_count": 13,
   "metadata": {},
   "outputs": [
    {
     "data": {
      "text/plain": [
       "28953"
      ]
     },
     "execution_count": 13,
     "metadata": {},
     "output_type": "execute_result"
    }
   ],
   "source": [
    "# replacing null values with N/A (prosper rating not available)\n",
    "loan_data.prosper_rating.fillna('N/A', inplace=True)\n",
    "(loan_data[loan_data.prosper_rating == 'N/A']).count()[0]"
   ]
  },
  {
   "cell_type": "code",
   "execution_count": 14,
   "metadata": {},
   "outputs": [
    {
     "data": {
      "text/plain": [
       "CategoricalDtype(categories=['N/A', 'HR', 'E', 'D', 'C', 'B', 'A', 'AA'], ordered=True)"
      ]
     },
     "execution_count": 14,
     "metadata": {},
     "output_type": "execute_result"
    }
   ],
   "source": [
    "# converting the field to ordered categorical data type\n",
    "# 0 - N/A, 1 - HR, 2 - E, 3 - D, 4 - C, 5 - B, 6 - A, 7 - AA\n",
    "\n",
    "# ordered list of categories \n",
    "ordered_categories = ['N/A', 'HR', 'E', 'D', 'C', 'B', 'A', 'AA']\n",
    "\n",
    "# converting to ordered categorical field\n",
    "ordered_var = pd.api.types.CategoricalDtype(ordered = True, categories = ordered_categories)\n",
    "loan_data.prosper_rating = loan_data.prosper_rating.astype(ordered_var)\n",
    "\n",
    "# checking if the conversion is successful\n",
    "loan_data.prosper_rating.dtype"
   ]
  },
  {
   "cell_type": "markdown",
   "metadata": {},
   "source": [
    "(2) `employment_status`"
   ]
  },
  {
   "cell_type": "code",
   "execution_count": 15,
   "metadata": {},
   "outputs": [
    {
     "data": {
      "text/plain": [
       "array([nan, 'Not available', 'Full-time', 'Part-time', 'Retired',\n",
       "       'Self-employed', 'Not employed', 'Employed', 'Other'], dtype=object)"
      ]
     },
     "execution_count": 15,
     "metadata": {},
     "output_type": "execute_result"
    }
   ],
   "source": [
    "# getting the unique values of employment status\n",
    "loan_data.employment_status.unique()"
   ]
  },
  {
   "cell_type": "code",
   "execution_count": 16,
   "metadata": {},
   "outputs": [
    {
     "data": {
      "text/plain": [
       "2255"
      ]
     },
     "execution_count": 16,
     "metadata": {},
     "output_type": "execute_result"
    }
   ],
   "source": [
    "loan_data.employment_status.isna().sum()"
   ]
  },
  {
   "cell_type": "code",
   "execution_count": 17,
   "metadata": {},
   "outputs": [
    {
     "data": {
      "text/plain": [
       "(111551, 11)"
      ]
     },
     "execution_count": 17,
     "metadata": {},
     "output_type": "execute_result"
    }
   ],
   "source": [
    "# drop records with employment status not available\n",
    "loan_data.dropna(subset=['employment_status'], inplace=True)\n",
    "loan_data.shape"
   ]
  },
  {
   "cell_type": "code",
   "execution_count": 18,
   "metadata": {},
   "outputs": [],
   "source": [
    "# converting employment status to category data type\n",
    "loan_data.employment_status = loan_data.employment_status.astype('category')"
   ]
  },
  {
   "cell_type": "markdown",
   "metadata": {},
   "source": [
    "(3) `loan_status` "
   ]
  },
  {
   "cell_type": "code",
   "execution_count": 19,
   "metadata": {},
   "outputs": [
    {
     "data": {
      "text/plain": [
       "array(['Completed', 'Cancelled', 'Chargedoff', 'Defaulted', 'Current',\n",
       "       'Past Due (1-15 days)', 'Past Due (91-120 days)',\n",
       "       'Past Due (61-90 days)', 'FinalPaymentInProgress',\n",
       "       'Past Due (31-60 days)', 'Past Due (16-30 days)',\n",
       "       'Past Due (>120 days)'], dtype=object)"
      ]
     },
     "execution_count": 19,
     "metadata": {},
     "output_type": "execute_result"
    }
   ],
   "source": [
    "# getting the unique values of loan status\n",
    "loan_data.loan_status.unique()"
   ]
  },
  {
   "cell_type": "code",
   "execution_count": 20,
   "metadata": {},
   "outputs": [],
   "source": [
    "# converting loan status to category data type\n",
    "loan_data.loan_status = loan_data.loan_status.astype('category')"
   ]
  },
  {
   "cell_type": "markdown",
   "metadata": {},
   "source": [
    "(4) `borrower_APR`"
   ]
  },
  {
   "cell_type": "code",
   "execution_count": 21,
   "metadata": {},
   "outputs": [
    {
     "data": {
      "text/plain": [
       "0"
      ]
     },
     "execution_count": 21,
     "metadata": {},
     "output_type": "execute_result"
    }
   ],
   "source": [
    "# getting the number of missing values in borrower APR\n",
    "loan_data.borrower_APR.isnull().sum()"
   ]
  },
  {
   "cell_type": "markdown",
   "metadata": {},
   "source": [
    "> Looks like the previous clean up efforts have eliminated all the records where borrower APR is not available. Let's move on to the next issue."
   ]
  },
  {
   "cell_type": "markdown",
   "metadata": {},
   "source": [
    "(5) `employment_status_duration`"
   ]
  },
  {
   "cell_type": "markdown",
   "metadata": {},
   "source": [
    "> Are the missing values corresponding to the employment status duration due to some of the loan applicants being unemployed? Let's find out."
   ]
  },
  {
   "cell_type": "code",
   "execution_count": 22,
   "metadata": {},
   "outputs": [
    {
     "data": {
      "text/plain": [
       "5370"
      ]
     },
     "execution_count": 22,
     "metadata": {},
     "output_type": "execute_result"
    }
   ],
   "source": [
    "# getting the number of missing values in employment status duration\n",
    "loan_data.employment_status_duration.isnull().sum()"
   ]
  },
  {
   "cell_type": "code",
   "execution_count": 23,
   "metadata": {},
   "outputs": [
    {
     "data": {
      "text/plain": [
       "(5370, 11)"
      ]
     },
     "execution_count": 23,
     "metadata": {},
     "output_type": "execute_result"
    }
   ],
   "source": [
    "#creating a dataframe containing only those records where employment status duration is not available\n",
    "emp_status_duration_na_loan_data = loan_data[loan_data.employment_status_duration.isnull()]\n",
    "emp_status_duration_na_loan_data.shape"
   ]
  },
  {
   "cell_type": "code",
   "execution_count": 24,
   "metadata": {},
   "outputs": [
    {
     "data": {
      "text/plain": [
       "Not available    5347\n",
       "Full-time          13\n",
       "Other               6\n",
       "Self-employed       2\n",
       "Not employed        1\n",
       "Employed            1\n",
       "Retired             0\n",
       "Part-time           0\n",
       "Name: employment_status, dtype: int64"
      ]
     },
     "execution_count": 24,
     "metadata": {},
     "output_type": "execute_result"
    }
   ],
   "source": [
    "# getting the counts of employment status of the records with no employment status duration available\n",
    "emp_status_duration_na_loan_data.employment_status.value_counts()"
   ]
  },
  {
   "cell_type": "markdown",
   "metadata": {},
   "source": [
    "> Surprisingly, only 1 loan applicant's employee status duration is not available. Most of the do not have the employment status duration have employment status to 'Not available'. These values need to be removed from the dataframe for a clear analysis\n",
    ">\n",
    "> There are few other records with different employment status and do not have the employment status duration. Let us drop all records where employment status duration is not available."
   ]
  },
  {
   "cell_type": "code",
   "execution_count": 25,
   "metadata": {},
   "outputs": [
    {
     "data": {
      "text/plain": [
       "(106204, 11)"
      ]
     },
     "execution_count": 25,
     "metadata": {},
     "output_type": "execute_result"
    }
   ],
   "source": [
    "# getting all records where employment status is 'Not available'\n",
    "loan_data_to_be_dropped = loan_data[loan_data.employment_status == \"Not available\"]\n",
    "\n",
    "# dropping all records where employment status is 'Not available'\n",
    "loan_data.drop(loan_data_to_be_dropped.index, inplace=True)\n",
    "loan_data.shape"
   ]
  },
  {
   "cell_type": "code",
   "execution_count": 26,
   "metadata": {},
   "outputs": [
    {
     "data": {
      "text/plain": [
       "(23, 11)"
      ]
     },
     "execution_count": 26,
     "metadata": {},
     "output_type": "execute_result"
    }
   ],
   "source": [
    "#creating a dataframe containing only those records where employment status duration is not available\n",
    "emp_status_duration_na_loan_data = loan_data[loan_data.employment_status_duration.isnull()]\n",
    "emp_status_duration_na_loan_data.shape"
   ]
  },
  {
   "cell_type": "code",
   "execution_count": 27,
   "metadata": {},
   "outputs": [
    {
     "data": {
      "text/plain": [
       "Full-time        13\n",
       "Other             6\n",
       "Self-employed     2\n",
       "Not employed      1\n",
       "Employed          1\n",
       "Retired           0\n",
       "Part-time         0\n",
       "Not available     0\n",
       "Name: employment_status, dtype: int64"
      ]
     },
     "execution_count": 27,
     "metadata": {},
     "output_type": "execute_result"
    }
   ],
   "source": [
    "# getting the counts of employment status of the records with no employment status duration available\n",
    "emp_status_duration_na_loan_data.employment_status.value_counts()"
   ]
  },
  {
   "cell_type": "code",
   "execution_count": 28,
   "metadata": {},
   "outputs": [
    {
     "data": {
      "text/plain": [
       "(23, 11)"
      ]
     },
     "execution_count": 28,
     "metadata": {},
     "output_type": "execute_result"
    }
   ],
   "source": [
    "#creating a dataframe containing only those records where employment status duration is not available and employment status is not 'Not available'\n",
    "loan_data_to_be_dropped = loan_data[(loan_data.employment_status_duration.isnull()) & (loan_data.employment_status != \"Not available\")]\n",
    "loan_data_to_be_dropped.shape"
   ]
  },
  {
   "cell_type": "code",
   "execution_count": 29,
   "metadata": {},
   "outputs": [
    {
     "data": {
      "text/plain": [
       "(106181, 11)"
      ]
     },
     "execution_count": 29,
     "metadata": {},
     "output_type": "execute_result"
    }
   ],
   "source": [
    "# dropping all records that do not have employee status duration and employment status is not 'Not available'\n",
    "loan_data.drop(loan_data_to_be_dropped.index, inplace=True)\n",
    "loan_data.shape"
   ]
  },
  {
   "cell_type": "markdown",
   "metadata": {},
   "source": [
    "(6) `loan_origination_quarter`"
   ]
  },
  {
   "cell_type": "code",
   "execution_count": 30,
   "metadata": {},
   "outputs": [
    {
     "data": {
      "text/plain": [
       "CategoricalDtype(categories=['Q1 2007', 'Q2 2007', 'Q3 2007', 'Q4 2007', 'Q1 2008',\n",
       "                  'Q2 2008', 'Q3 2008', 'Q4 2008', 'Q2 2009', 'Q3 2009',\n",
       "                  'Q4 2009', 'Q1 2010', 'Q2 2010', 'Q3 2010', 'Q4 2010',\n",
       "                  'Q1 2011', 'Q2 2011', 'Q3 2011', 'Q4 2011', 'Q1 2012',\n",
       "                  'Q2 2012', 'Q3 2012', 'Q4 2012', 'Q1 2013', 'Q2 2013',\n",
       "                  'Q3 2013', 'Q4 2013', 'Q1 2014'],\n",
       "                 ordered=True)"
      ]
     },
     "execution_count": 30,
     "metadata": {},
     "output_type": "execute_result"
    }
   ],
   "source": [
    "# ordered list of categories \n",
    "ordered_categories = loan_data.loan_origination_quarter.unique()\n",
    "\n",
    "# converting to ordered categorical field\n",
    "ordered_var = pd.api.types.CategoricalDtype(ordered = True, categories = ordered_categories)\n",
    "loan_data.loan_origination_quarter = loan_data.loan_origination_quarter.astype(ordered_var)\n",
    "\n",
    "# checking if the conversion is successful\n",
    "loan_data.loan_origination_quarter.dtype"
   ]
  },
  {
   "cell_type": "markdown",
   "metadata": {},
   "source": [
    "> Verification"
   ]
  },
  {
   "cell_type": "code",
   "execution_count": 31,
   "metadata": {},
   "outputs": [
    {
     "name": "stdout",
     "output_type": "stream",
     "text": [
      "<class 'pandas.core.frame.DataFrame'>\n",
      "Int64Index: 106181 entries, 17308 to 31260\n",
      "Data columns (total 11 columns):\n",
      " #   Column                      Non-Null Count   Dtype   \n",
      "---  ------                      --------------   -----   \n",
      " 0   loan_number                 106181 non-null  int64   \n",
      " 1   loan_original_amount        106181 non-null  int64   \n",
      " 2   loan_origination_quarter    106181 non-null  category\n",
      " 3   term                        106181 non-null  int64   \n",
      " 4   loan_status                 106181 non-null  category\n",
      " 5   borrower_APR                106181 non-null  float64 \n",
      " 6   prosper_rating              106181 non-null  category\n",
      " 7   employment_status           106181 non-null  category\n",
      " 8   employment_status_duration  106181 non-null  float64 \n",
      " 9   stated_monthly_income       106181 non-null  float64 \n",
      " 10  is_borrower_homeowner       106181 non-null  bool    \n",
      "dtypes: bool(1), category(4), float64(3), int64(3)\n",
      "memory usage: 6.2 MB\n"
     ]
    }
   ],
   "source": [
    "# checking missing values and data type for each field\n",
    "loan_data.info()"
   ]
  },
  {
   "cell_type": "markdown",
   "metadata": {},
   "source": [
    "> There are now, no missing values in the dataframe."
   ]
  },
  {
   "cell_type": "code",
   "execution_count": 32,
   "metadata": {},
   "outputs": [
    {
     "data": {
      "text/html": [
       "<div>\n",
       "<style scoped>\n",
       "    .dataframe tbody tr th:only-of-type {\n",
       "        vertical-align: middle;\n",
       "    }\n",
       "\n",
       "    .dataframe tbody tr th {\n",
       "        vertical-align: top;\n",
       "    }\n",
       "\n",
       "    .dataframe thead th {\n",
       "        text-align: right;\n",
       "    }\n",
       "</style>\n",
       "<table border=\"1\" class=\"dataframe\">\n",
       "  <thead>\n",
       "    <tr style=\"text-align: right;\">\n",
       "      <th></th>\n",
       "      <th>loan_number</th>\n",
       "      <th>loan_original_amount</th>\n",
       "      <th>term</th>\n",
       "      <th>borrower_APR</th>\n",
       "      <th>employment_status_duration</th>\n",
       "      <th>stated_monthly_income</th>\n",
       "    </tr>\n",
       "  </thead>\n",
       "  <tbody>\n",
       "    <tr>\n",
       "      <th>count</th>\n",
       "      <td>106181.00000</td>\n",
       "      <td>106181.000000</td>\n",
       "      <td>106181.000000</td>\n",
       "      <td>106181.000000</td>\n",
       "      <td>106181.000000</td>\n",
       "      <td>1.061810e+05</td>\n",
       "    </tr>\n",
       "    <tr>\n",
       "      <th>mean</th>\n",
       "      <td>74173.55670</td>\n",
       "      <td>8571.843324</td>\n",
       "      <td>41.182848</td>\n",
       "      <td>0.220268</td>\n",
       "      <td>96.098511</td>\n",
       "      <td>5.671257e+03</td>\n",
       "    </tr>\n",
       "    <tr>\n",
       "      <th>std</th>\n",
       "      <td>35981.94247</td>\n",
       "      <td>6267.426288</td>\n",
       "      <td>10.725092</td>\n",
       "      <td>0.080890</td>\n",
       "      <td>94.502961</td>\n",
       "      <td>7.611292e+03</td>\n",
       "    </tr>\n",
       "    <tr>\n",
       "      <th>min</th>\n",
       "      <td>7495.00000</td>\n",
       "      <td>1000.000000</td>\n",
       "      <td>12.000000</td>\n",
       "      <td>0.006530</td>\n",
       "      <td>0.000000</td>\n",
       "      <td>0.000000e+00</td>\n",
       "    </tr>\n",
       "    <tr>\n",
       "      <th>25%</th>\n",
       "      <td>43799.00000</td>\n",
       "      <td>4000.000000</td>\n",
       "      <td>36.000000</td>\n",
       "      <td>0.157130</td>\n",
       "      <td>26.000000</td>\n",
       "      <td>3.330167e+03</td>\n",
       "    </tr>\n",
       "    <tr>\n",
       "      <th>50%</th>\n",
       "      <td>73219.00000</td>\n",
       "      <td>7000.000000</td>\n",
       "      <td>36.000000</td>\n",
       "      <td>0.210610</td>\n",
       "      <td>67.000000</td>\n",
       "      <td>4.750000e+03</td>\n",
       "    </tr>\n",
       "    <tr>\n",
       "      <th>75%</th>\n",
       "      <td>103808.00000</td>\n",
       "      <td>12000.000000</td>\n",
       "      <td>36.000000</td>\n",
       "      <td>0.285740</td>\n",
       "      <td>137.000000</td>\n",
       "      <td>6.916667e+03</td>\n",
       "    </tr>\n",
       "    <tr>\n",
       "      <th>max</th>\n",
       "      <td>136486.00000</td>\n",
       "      <td>35000.000000</td>\n",
       "      <td>60.000000</td>\n",
       "      <td>0.423950</td>\n",
       "      <td>755.000000</td>\n",
       "      <td>1.750003e+06</td>\n",
       "    </tr>\n",
       "  </tbody>\n",
       "</table>\n",
       "</div>"
      ],
      "text/plain": [
       "        loan_number  loan_original_amount           term   borrower_APR  \\\n",
       "count  106181.00000         106181.000000  106181.000000  106181.000000   \n",
       "mean    74173.55670           8571.843324      41.182848       0.220268   \n",
       "std     35981.94247           6267.426288      10.725092       0.080890   \n",
       "min      7495.00000           1000.000000      12.000000       0.006530   \n",
       "25%     43799.00000           4000.000000      36.000000       0.157130   \n",
       "50%     73219.00000           7000.000000      36.000000       0.210610   \n",
       "75%    103808.00000          12000.000000      36.000000       0.285740   \n",
       "max    136486.00000          35000.000000      60.000000       0.423950   \n",
       "\n",
       "       employment_status_duration  stated_monthly_income  \n",
       "count               106181.000000           1.061810e+05  \n",
       "mean                    96.098511           5.671257e+03  \n",
       "std                     94.502961           7.611292e+03  \n",
       "min                      0.000000           0.000000e+00  \n",
       "25%                     26.000000           3.330167e+03  \n",
       "50%                     67.000000           4.750000e+03  \n",
       "75%                    137.000000           6.916667e+03  \n",
       "max                    755.000000           1.750003e+06  "
      ]
     },
     "execution_count": 32,
     "metadata": {},
     "output_type": "execute_result"
    }
   ],
   "source": [
    "# getting the quartile values and other statistics for the numerical fields\n",
    "loan_data.describe()"
   ]
  },
  {
   "cell_type": "markdown",
   "metadata": {},
   "source": [
    "### What is the structure of your dataset?\n",
    "\n",
    "> There are 113,937 loans in the dataset with 81 features out of which we have retained 11 features in order to limit the scope of the analysis. Most variables are numeric in nature, but the variables `loan_status`, `employment_status` and `prosper_rating` are categorical in nature. Further, `prosper_rating` is ordered.\n",
    ">\n",
    "> After cleaning up the data during preliminary data wrangling process, we are left with 106181 records which have no missing values and appropriate data type for each feature.\n",
    "\n",
    "### What is/are the main feature(s) of interest in your dataset?\n",
    "\n",
    "> The main feature of interest is the `borrower_APR`. The Borrower APR (Annual Percentage Rate) is the annual cost of a loan to a borrower. Unlike an interest rate, it includes other charges or fees (such as mortgage  insurance, most closing costs, discount points and loan origination  fees) to reflect the total cost of the loan.\n",
    "\n",
    "### What features in the dataset do you think will help support your investigation into your feature(s) of interest?\n",
    "\n",
    "> I expect the `employment_status`, `term`, `prosper_rating`, `loan_original_amount` and `employment_status_duration`  of the borrower to play a major role in the analysis."
   ]
  },
  {
   "cell_type": "markdown",
   "metadata": {},
   "source": [
    "### Utility Functions\n",
    "\n",
    "> These functions will be used so as to avoid repeatation of code that will be frequently required"
   ]
  },
  {
   "cell_type": "code",
   "execution_count": 33,
   "metadata": {},
   "outputs": [],
   "source": [
    "# if variable is a discrete numerical variable, a continuously binned histogram can be confusing, \n",
    "# we set the width of the bars to 70% of the actual width and modify the ticks\n",
    "\n",
    "# function to plot a histogram\n",
    "def draw_histogram(data, x, bins, x_ticks, x_label, y_label, title, discrete_variable, rotation=0):\n",
    "    # setting the figure size\n",
    "    plt.figure(figsize=[10, 8])\n",
    "    \n",
    "    # setting the bar width to 0.7 if the variable is discrete\n",
    "    if discrete_variable:\n",
    "        rwidth = 0.7\n",
    "    else:\n",
    "        rwidth = 1\n",
    "    \n",
    "    # plotting the histogram\n",
    "    plt.hist(data = data, x = x, bins = bins, rwidth = rwidth)\n",
    "    # specifying the X and Y axes labels\n",
    "    plt.xlabel(x_label)\n",
    "    plt.ylabel(y_label)\n",
    "    # specifying the X ticks and rotation\n",
    "    plt.xticks(x_ticks, rotation=rotation)\n",
    "    # setting the title of the plot\n",
    "    plt.title(title);"
   ]
  },
  {
   "cell_type": "code",
   "execution_count": 34,
   "metadata": {},
   "outputs": [],
   "source": [
    "# function to plot a countplot\n",
    "def draw_countplot(data, x, x_label, y_label, title, ordered, rotation=0):\n",
    "    # set figure size\n",
    "    plt.figure(figsize=(10, 8))\n",
    "\n",
    "    # setting the color to blue\n",
    "    default_color = sb.color_palette()[0]\n",
    "    \n",
    "    # plotting the countplot\n",
    "    if not ordered:\n",
    "        g = sb.countplot(x=x, data=data, color=default_color, order = data[x].value_counts().index)\n",
    "    else:\n",
    "        g = sb.countplot(x=x, data=data, color=default_color)\n",
    "    # specifying the X tick labels\n",
    "    g.set_xticklabels(g.get_xticklabels(), rotation=rotation)\n",
    "    # specifying the X and Y axes labels\n",
    "    g.set_xlabel(x_label)\n",
    "    g.set_ylabel(y_label)\n",
    "    # setting the title of the plot\n",
    "    g.set_title(title);"
   ]
  },
  {
   "cell_type": "markdown",
   "metadata": {},
   "source": [
    "## Univariate Exploration\n",
    "\n",
    "> Let's take a look at the feature of interest - `borrower_APR`"
   ]
  },
  {
   "cell_type": "code",
   "execution_count": 35,
   "metadata": {},
   "outputs": [
    {
     "data": {
      "image/png": "[encoded data removed]",
      "text/plain": [
       "<Figure size 720x576 with 1 Axes>"
      ]
     },
     "metadata": {
      "needs_background": "light"
     },
     "output_type": "display_data"
    }
   ],
   "source": [
    "# defining the bins\n",
    "binsize = 0.01\n",
    "bins = np.arange(0, loan_data['borrower_APR'].max()+binsize, binsize)\n",
    "\n",
    "# defining the X ticks\n",
    "ticksize = 0.05\n",
    "x_ticks = np.arange(0, loan_data['borrower_APR'].max()+ticksize, ticksize)\n",
    "\n",
    "# plotting the histogram\n",
    "draw_histogram(loan_data, 'borrower_APR', bins, x_ticks, 'Borrower APR', 'Count', 'Distribution of Borrower APR', False)"
   ]
  },
  {
   "cell_type": "markdown",
   "metadata": {},
   "source": [
    "> The distribution of count of borrower APR has many peaks. The borrower APR with highest frequency lies between 0.35 and 0.36.\n",
    ">\n",
    "> Let us now explore the other numerical features in the dataset - `loan_original_amount`, `term`, `employment_status_duration` and `stated_monthly_income`"
   ]
  },
  {
   "cell_type": "markdown",
   "metadata": {},
   "source": [
    "`loan_original_amount`"
   ]
  },
  {
   "cell_type": "code",
   "execution_count": 36,
   "metadata": {},
   "outputs": [
    {
     "data": {
      "image/png": "[encoded data removed]",
      "text/plain": [
       "<Figure size 720x576 with 1 Axes>"
      ]
     },
     "metadata": {
      "needs_background": "light"
     },
     "output_type": "display_data"
    }
   ],
   "source": [
    "# defining the bins\n",
    "binsize = 1000\n",
    "bins = np.arange(0, loan_data['loan_original_amount'].max()+binsize, binsize)\n",
    "\n",
    "# defining the X ticks\n",
    "ticksize = 5000\n",
    "x_ticks = np.arange(0, loan_data['loan_original_amount'].max()+ticksize, ticksize)\n",
    "\n",
    "# plotting the histogram\n",
    "draw_histogram(loan_data, 'loan_original_amount', bins, x_ticks, 'Loan Original Ammount (in dollars)', 'Count', 'Distribution of Loan Original Ammount', False, 60)"
   ]
  },
  {
   "cell_type": "markdown",
   "metadata": {},
   "source": [
    "> The ditribution of the loan amount looks multimodal with peaks between 4k and 5k, 15k and 16k & 10k and 11k in decreasing order."
   ]
  },
  {
   "cell_type": "markdown",
   "metadata": {},
   "source": [
    "`term`"
   ]
  },
  {
   "cell_type": "code",
   "execution_count": 37,
   "metadata": {},
   "outputs": [
    {
     "data": {
      "image/png": "[encoded data removed]",
      "text/plain": [
       "<Figure size 720x576 with 1 Axes>"
      ]
     },
     "metadata": {
      "needs_background": "light"
     },
     "output_type": "display_data"
    }
   ],
   "source": [
    "# defining the bins\n",
    "binsize = 12\n",
    "bins = np.arange(6, loan_data['term'].max()+18, binsize)\n",
    "\n",
    "# defining the X ticks\n",
    "ticksize = 12\n",
    "x_ticks = np.arange(ticksize, loan_data['term'].max()+ticksize, ticksize)\n",
    "\n",
    "# plotting the histogram\n",
    "draw_histogram(loan_data, 'term', bins, x_ticks, 'Term (in number of months)', 'Count', 'Distribution of Term', True)"
   ]
  },
  {
   "cell_type": "markdown",
   "metadata": {},
   "source": [
    "> Majority of the loans have a term of 3 years (36 months) followed by 5 years and 1 year."
   ]
  },
  {
   "cell_type": "markdown",
   "metadata": {},
   "source": [
    "`employment_status_duration`"
   ]
  },
  {
   "cell_type": "code",
   "execution_count": 38,
   "metadata": {},
   "outputs": [
    {
     "data": {
      "image/png": "[encoded data removed]",
      "text/plain": [
       "<Figure size 720x576 with 1 Axes>"
      ]
     },
     "metadata": {
      "needs_background": "light"
     },
     "output_type": "display_data"
    }
   ],
   "source": [
    "# defining the bins\n",
    "binsize = 12\n",
    "bins = np.arange(6, loan_data['employment_status_duration'].max()+18, binsize)\n",
    "\n",
    "# defining the X ticks\n",
    "ticksize = 60\n",
    "x_ticks = np.arange(ticksize, loan_data['employment_status_duration'].max()+ticksize, ticksize)\n",
    "\n",
    "# plotting the histogram\n",
    "draw_histogram(loan_data, 'employment_status_duration', bins, x_ticks, 'Employment Status Duration (in number of months)', 'Count', 'Distribution of Employment Status Duration', True, 60)"
   ]
  },
  {
   "cell_type": "markdown",
   "metadata": {},
   "source": [
    "> The plot is heavily skewed to the right. Let's take a look at the records where employment status duration is 0."
   ]
  },
  {
   "cell_type": "code",
   "execution_count": 39,
   "metadata": {},
   "outputs": [
    {
     "data": {
      "text/html": [
       "<div>\n",
       "<style scoped>\n",
       "    .dataframe tbody tr th:only-of-type {\n",
       "        vertical-align: middle;\n",
       "    }\n",
       "\n",
       "    .dataframe tbody tr th {\n",
       "        vertical-align: top;\n",
       "    }\n",
       "\n",
       "    .dataframe thead th {\n",
       "        text-align: right;\n",
       "    }\n",
       "</style>\n",
       "<table border=\"1\" class=\"dataframe\">\n",
       "  <thead>\n",
       "    <tr style=\"text-align: right;\">\n",
       "      <th></th>\n",
       "      <th>loan_number</th>\n",
       "      <th>loan_original_amount</th>\n",
       "      <th>loan_origination_quarter</th>\n",
       "      <th>term</th>\n",
       "      <th>loan_status</th>\n",
       "      <th>borrower_APR</th>\n",
       "      <th>prosper_rating</th>\n",
       "      <th>employment_status</th>\n",
       "      <th>employment_status_duration</th>\n",
       "      <th>stated_monthly_income</th>\n",
       "      <th>is_borrower_homeowner</th>\n",
       "    </tr>\n",
       "  </thead>\n",
       "  <tbody>\n",
       "    <tr>\n",
       "      <th>6555</th>\n",
       "      <td>7539</td>\n",
       "      <td>2500</td>\n",
       "      <td>Q1 2007</td>\n",
       "      <td>36</td>\n",
       "      <td>Chargedoff</td>\n",
       "      <td>0.14438</td>\n",
       "      <td>N/A</td>\n",
       "      <td>Full-time</td>\n",
       "      <td>0.0</td>\n",
       "      <td>2601.666667</td>\n",
       "      <td>False</td>\n",
       "    </tr>\n",
       "    <tr>\n",
       "      <th>102916</th>\n",
       "      <td>7595</td>\n",
       "      <td>3500</td>\n",
       "      <td>Q1 2007</td>\n",
       "      <td>36</td>\n",
       "      <td>Completed</td>\n",
       "      <td>0.30564</td>\n",
       "      <td>N/A</td>\n",
       "      <td>Full-time</td>\n",
       "      <td>0.0</td>\n",
       "      <td>5250.000000</td>\n",
       "      <td>False</td>\n",
       "    </tr>\n",
       "    <tr>\n",
       "      <th>16383</th>\n",
       "      <td>7562</td>\n",
       "      <td>2500</td>\n",
       "      <td>Q1 2007</td>\n",
       "      <td>36</td>\n",
       "      <td>Completed</td>\n",
       "      <td>0.17722</td>\n",
       "      <td>N/A</td>\n",
       "      <td>Full-time</td>\n",
       "      <td>0.0</td>\n",
       "      <td>1166.666667</td>\n",
       "      <td>False</td>\n",
       "    </tr>\n",
       "    <tr>\n",
       "      <th>92554</th>\n",
       "      <td>7553</td>\n",
       "      <td>8200</td>\n",
       "      <td>Q1 2007</td>\n",
       "      <td>36</td>\n",
       "      <td>Completed</td>\n",
       "      <td>0.16195</td>\n",
       "      <td>N/A</td>\n",
       "      <td>Full-time</td>\n",
       "      <td>0.0</td>\n",
       "      <td>4166.666667</td>\n",
       "      <td>False</td>\n",
       "    </tr>\n",
       "    <tr>\n",
       "      <th>96016</th>\n",
       "      <td>7659</td>\n",
       "      <td>4850</td>\n",
       "      <td>Q1 2007</td>\n",
       "      <td>36</td>\n",
       "      <td>Chargedoff</td>\n",
       "      <td>0.29100</td>\n",
       "      <td>N/A</td>\n",
       "      <td>Full-time</td>\n",
       "      <td>0.0</td>\n",
       "      <td>3908.333333</td>\n",
       "      <td>False</td>\n",
       "    </tr>\n",
       "    <tr>\n",
       "      <th>...</th>\n",
       "      <td>...</td>\n",
       "      <td>...</td>\n",
       "      <td>...</td>\n",
       "      <td>...</td>\n",
       "      <td>...</td>\n",
       "      <td>...</td>\n",
       "      <td>...</td>\n",
       "      <td>...</td>\n",
       "      <td>...</td>\n",
       "      <td>...</td>\n",
       "      <td>...</td>\n",
       "    </tr>\n",
       "    <tr>\n",
       "      <th>17009</th>\n",
       "      <td>135513</td>\n",
       "      <td>15000</td>\n",
       "      <td>Q1 2014</td>\n",
       "      <td>36</td>\n",
       "      <td>Current</td>\n",
       "      <td>0.19029</td>\n",
       "      <td>C</td>\n",
       "      <td>Other</td>\n",
       "      <td>0.0</td>\n",
       "      <td>4583.333333</td>\n",
       "      <td>True</td>\n",
       "    </tr>\n",
       "    <tr>\n",
       "      <th>15622</th>\n",
       "      <td>136372</td>\n",
       "      <td>4000</td>\n",
       "      <td>Q1 2014</td>\n",
       "      <td>36</td>\n",
       "      <td>Current</td>\n",
       "      <td>0.21636</td>\n",
       "      <td>C</td>\n",
       "      <td>Other</td>\n",
       "      <td>0.0</td>\n",
       "      <td>1333.333333</td>\n",
       "      <td>False</td>\n",
       "    </tr>\n",
       "    <tr>\n",
       "      <th>83881</th>\n",
       "      <td>135632</td>\n",
       "      <td>8000</td>\n",
       "      <td>Q1 2014</td>\n",
       "      <td>60</td>\n",
       "      <td>Current</td>\n",
       "      <td>0.22780</td>\n",
       "      <td>D</td>\n",
       "      <td>Other</td>\n",
       "      <td>0.0</td>\n",
       "      <td>3072.250000</td>\n",
       "      <td>False</td>\n",
       "    </tr>\n",
       "    <tr>\n",
       "      <th>1017</th>\n",
       "      <td>136231</td>\n",
       "      <td>15000</td>\n",
       "      <td>Q1 2014</td>\n",
       "      <td>36</td>\n",
       "      <td>Current</td>\n",
       "      <td>0.07957</td>\n",
       "      <td>AA</td>\n",
       "      <td>Other</td>\n",
       "      <td>0.0</td>\n",
       "      <td>4666.666667</td>\n",
       "      <td>True</td>\n",
       "    </tr>\n",
       "    <tr>\n",
       "      <th>9459</th>\n",
       "      <td>135618</td>\n",
       "      <td>10000</td>\n",
       "      <td>Q1 2014</td>\n",
       "      <td>36</td>\n",
       "      <td>Current</td>\n",
       "      <td>0.17138</td>\n",
       "      <td>B</td>\n",
       "      <td>Other</td>\n",
       "      <td>0.0</td>\n",
       "      <td>3131.583333</td>\n",
       "      <td>False</td>\n",
       "    </tr>\n",
       "  </tbody>\n",
       "</table>\n",
       "<p>1533 rows × 11 columns</p>\n",
       "</div>"
      ],
      "text/plain": [
       "        loan_number  loan_original_amount loan_origination_quarter  term  \\\n",
       "6555           7539                  2500                  Q1 2007    36   \n",
       "102916         7595                  3500                  Q1 2007    36   \n",
       "16383          7562                  2500                  Q1 2007    36   \n",
       "92554          7553                  8200                  Q1 2007    36   \n",
       "96016          7659                  4850                  Q1 2007    36   \n",
       "...             ...                   ...                      ...   ...   \n",
       "17009        135513                 15000                  Q1 2014    36   \n",
       "15622        136372                  4000                  Q1 2014    36   \n",
       "83881        135632                  8000                  Q1 2014    60   \n",
       "1017         136231                 15000                  Q1 2014    36   \n",
       "9459         135618                 10000                  Q1 2014    36   \n",
       "\n",
       "       loan_status  borrower_APR prosper_rating employment_status  \\\n",
       "6555    Chargedoff       0.14438            N/A         Full-time   \n",
       "102916   Completed       0.30564            N/A         Full-time   \n",
       "16383    Completed       0.17722            N/A         Full-time   \n",
       "92554    Completed       0.16195            N/A         Full-time   \n",
       "96016   Chargedoff       0.29100            N/A         Full-time   \n",
       "...            ...           ...            ...               ...   \n",
       "17009      Current       0.19029              C             Other   \n",
       "15622      Current       0.21636              C             Other   \n",
       "83881      Current       0.22780              D             Other   \n",
       "1017       Current       0.07957             AA             Other   \n",
       "9459       Current       0.17138              B             Other   \n",
       "\n",
       "        employment_status_duration  stated_monthly_income  \\\n",
       "6555                           0.0            2601.666667   \n",
       "102916                         0.0            5250.000000   \n",
       "16383                          0.0            1166.666667   \n",
       "92554                          0.0            4166.666667   \n",
       "96016                          0.0            3908.333333   \n",
       "...                            ...                    ...   \n",
       "17009                          0.0            4583.333333   \n",
       "15622                          0.0            1333.333333   \n",
       "83881                          0.0            3072.250000   \n",
       "1017                           0.0            4666.666667   \n",
       "9459                           0.0            3131.583333   \n",
       "\n",
       "        is_borrower_homeowner  \n",
       "6555                    False  \n",
       "102916                  False  \n",
       "16383                   False  \n",
       "92554                   False  \n",
       "96016                   False  \n",
       "...                       ...  \n",
       "17009                    True  \n",
       "15622                   False  \n",
       "83881                   False  \n",
       "1017                     True  \n",
       "9459                    False  \n",
       "\n",
       "[1533 rows x 11 columns]"
      ]
     },
     "execution_count": 39,
     "metadata": {},
     "output_type": "execute_result"
    }
   ],
   "source": [
    "# getting the records corresponding to employment status duration with value 0\n",
    "loan_data[loan_data.employment_status_duration == 0]"
   ]
  },
  {
   "cell_type": "markdown",
   "metadata": {},
   "source": [
    "> These are probably employees who are just starting off their career and have taken loans for various developmental reasons."
   ]
  },
  {
   "cell_type": "markdown",
   "metadata": {},
   "source": [
    "`stated_monthly_income`"
   ]
  },
  {
   "cell_type": "code",
   "execution_count": 40,
   "metadata": {},
   "outputs": [
    {
     "data": {
      "image/png": "[encoded data removed]",
      "text/plain": [
       "<Figure size 720x576 with 1 Axes>"
      ]
     },
     "metadata": {
      "needs_background": "light"
     },
     "output_type": "display_data"
    }
   ],
   "source": [
    "# defining the bins\n",
    "binsize = 500\n",
    "bins = np.arange(0, 50000, binsize)\n",
    "\n",
    "# defining the X ticks\n",
    "ticksize = 5000\n",
    "x_ticks = np.arange(0, 50000, ticksize)\n",
    "\n",
    "# plotting the histogram\n",
    "draw_histogram(loan_data, 'stated_monthly_income', bins, x_ticks, 'Stated Monthly Income (in dollars)', 'Count', 'Distribution of Stated Monthly Income', False, 60)"
   ]
  },
  {
   "cell_type": "markdown",
   "metadata": {},
   "source": [
    "> The plot is heavily skewed to the right just like the employment status duration which confirms that many of the loan applicants are just starting off theor career and hence do not make much money,\n",
    ">\n",
    "> Let us explore the categorical features (`loan_status`, `prosper_rating` and `employment_status`) next"
   ]
  },
  {
   "cell_type": "markdown",
   "metadata": {},
   "source": [
    "`loan_status`"
   ]
  },
  {
   "cell_type": "code",
   "execution_count": 41,
   "metadata": {},
   "outputs": [
    {
     "data": {
      "image/png": "[encoded data removed]",
      "text/plain": [
       "<Figure size 720x576 with 1 Axes>"
      ]
     },
     "metadata": {
      "needs_background": "light"
     },
     "output_type": "display_data"
    }
   ],
   "source": [
    "# plotting a countplot to visualize the distribution\n",
    "draw_countplot(data=loan_data, x='loan_status', x_label='Loan Status', y_label='Count', title='Distribution of Loan Status', ordered=False, rotation=75)"
   ]
  },
  {
   "cell_type": "code",
   "execution_count": 42,
   "metadata": {},
   "outputs": [
    {
     "data": {
      "text/plain": [
       "Current                   56566\n",
       "Completed                 33426\n",
       "Chargedoff                10628\n",
       "Defaulted                  3288\n",
       "Past Due (1-15 days)        806\n",
       "Past Due (31-60 days)       363\n",
       "Past Due (61-90 days)       313\n",
       "Past Due (91-120 days)      304\n",
       "Past Due (16-30 days)       265\n",
       "FinalPaymentInProgress      205\n",
       "Past Due (>120 days)         16\n",
       "Cancelled                     1\n",
       "Name: loan_status, dtype: int64"
      ]
     },
     "execution_count": 42,
     "metadata": {},
     "output_type": "execute_result"
    }
   ],
   "source": [
    "# getting the category-wise frequency\n",
    "loan_data.loan_status.value_counts()"
   ]
  },
  {
   "cell_type": "markdown",
   "metadata": {},
   "source": [
    "> The most number of loans have **current status** and the least number of loans have **cancelled** status."
   ]
  },
  {
   "cell_type": "markdown",
   "metadata": {},
   "source": [
    "`prosper_rating`"
   ]
  },
  {
   "cell_type": "code",
   "execution_count": 43,
   "metadata": {},
   "outputs": [
    {
     "data": {
      "image/png": "[encoded data removed]",
      "text/plain": [
       "<Figure size 720x576 with 1 Axes>"
      ]
     },
     "metadata": {
      "needs_background": "light"
     },
     "output_type": "display_data"
    }
   ],
   "source": [
    "# plotting a countplot to visualize the distribution\n",
    "draw_countplot(data=loan_data, x='prosper_rating', x_label='Prosper Rating', y_label='Count', title='Distribution of Prosper Rating', ordered=True)"
   ]
  },
  {
   "cell_type": "code",
   "execution_count": 44,
   "metadata": {},
   "outputs": [
    {
     "data": {
      "text/plain": [
       "N/A    21347\n",
       "C      18340\n",
       "B      15579\n",
       "A      14549\n",
       "D      14268\n",
       "E       9795\n",
       "HR      6932\n",
       "AA      5371\n",
       "Name: prosper_rating, dtype: int64"
      ]
     },
     "execution_count": 44,
     "metadata": {},
     "output_type": "execute_result"
    }
   ],
   "source": [
    "# getting the category-wise frequency\n",
    "loan_data.prosper_rating.value_counts()"
   ]
  },
  {
   "cell_type": "markdown",
   "metadata": {},
   "source": [
    "> Many of the records have prosper rating as N/A since the loan origination date was before July 2009. The distribution of the rest of the ratings have an approximate normal distribution."
   ]
  },
  {
   "cell_type": "markdown",
   "metadata": {},
   "source": [
    "`employment_status`"
   ]
  },
  {
   "cell_type": "code",
   "execution_count": 45,
   "metadata": {},
   "outputs": [
    {
     "data": {
      "image/png": "[encoded data removed]",
      "text/plain": [
       "<Figure size 720x576 with 1 Axes>"
      ]
     },
     "metadata": {
      "needs_background": "light"
     },
     "output_type": "display_data"
    }
   ],
   "source": [
    "# plotting a countplot to visualize the distribution\n",
    "draw_countplot(data=loan_data, x='employment_status', x_label='Employment Status', y_label='Count', title='Distribution of Employment Status', ordered=False)"
   ]
  },
  {
   "cell_type": "code",
   "execution_count": 46,
   "metadata": {},
   "outputs": [
    {
     "data": {
      "text/plain": [
       "Employed         67309\n",
       "Full-time        26238\n",
       "Self-employed     6128\n",
       "Other             3800\n",
       "Part-time         1081\n",
       "Not employed       834\n",
       "Retired            791\n",
       "Not available        0\n",
       "Name: employment_status, dtype: int64"
      ]
     },
     "execution_count": 46,
     "metadata": {},
     "output_type": "execute_result"
    }
   ],
   "source": [
    "# getting the category-wise frequency\n",
    "loan_data.employment_status.value_counts()"
   ]
  },
  {
   "cell_type": "markdown",
   "metadata": {},
   "source": [
    "> From the above plot, we can see that the majority of loan applicants are employed (in one form or another). Only a negligible number of applicants are retired or not employed."
   ]
  },
  {
   "cell_type": "markdown",
   "metadata": {},
   "source": [
    "> To finish off, let's explore the other features (`is_borrower_homeowner` and `loan_origination_quarter`) to see if we can get any intersting insights"
   ]
  },
  {
   "cell_type": "markdown",
   "metadata": {},
   "source": [
    "`is_borrower_homeowner`"
   ]
  },
  {
   "cell_type": "code",
   "execution_count": 47,
   "metadata": {},
   "outputs": [
    {
     "data": {
      "image/png": "[encoded data removed]",
      "text/plain": [
       "<Figure size 720x576 with 1 Axes>"
      ]
     },
     "metadata": {
      "needs_background": "light"
     },
     "output_type": "display_data"
    }
   ],
   "source": [
    "# plotting a countplot to visualize the distribution\n",
    "draw_countplot(data=loan_data, x='is_borrower_homeowner', x_label='Home Ownership Status', y_label='Count', title='Distribution of Home Ownership Status', ordered=False)"
   ]
  },
  {
   "cell_type": "code",
   "execution_count": 48,
   "metadata": {},
   "outputs": [
    {
     "data": {
      "text/plain": [
       "True     54840\n",
       "False    51341\n",
       "Name: is_borrower_homeowner, dtype: int64"
      ]
     },
     "execution_count": 48,
     "metadata": {},
     "output_type": "execute_result"
    }
   ],
   "source": [
    "# getting the category-wise frequency\n",
    "loan_data.is_borrower_homeowner.value_counts()"
   ]
  },
  {
   "cell_type": "markdown",
   "metadata": {},
   "source": [
    "> From the above countplot, we can observe that the number of loan applicants that own a home is slightly higher than those who don't. "
   ]
  },
  {
   "cell_type": "markdown",
   "metadata": {},
   "source": [
    "`loan_origination_quarter`"
   ]
  },
  {
   "cell_type": "code",
   "execution_count": 49,
   "metadata": {},
   "outputs": [
    {
     "data": {
      "image/png": "[encoded data removed]",
      "text/plain": [
       "<Figure size 720x576 with 1 Axes>"
      ]
     },
     "metadata": {
      "needs_background": "light"
     },
     "output_type": "display_data"
    }
   ],
   "source": [
    "# plotting a countplot to visualize the distribution\n",
    "draw_countplot(data=loan_data, x='loan_origination_quarter', x_label='Loan Origination Quarter', y_label='Count', title='Distribution of Loan Origination Quarter', ordered=True, rotation=60)"
   ]
  },
  {
   "cell_type": "markdown",
   "metadata": {},
   "source": [
    "> We can observe that the number of loans originated quarter-wise has no consisent pattern. There is a dip during Q2 2009 and the most frequency is in all quarters of 2013 and Q1 of 2014."
   ]
  },
  {
   "cell_type": "markdown",
   "metadata": {},
   "source": [
    "### Discuss the distribution(s) of your variable(s) of interest. Were there any unusual points? Did you need to perform any transformations?\n",
    "\n",
    "> The variable of interest if `borrower_APR`. The frequency distribution had many peaks. The plot is roughly normally distributed (bell shaped curve). No transformations were required to be performed.\n",
    "\n",
    "### Of the features you investigated, were there any unusual distributions? Did you perform any operations on the data to tidy, adjust, or change the form of the data? If so, why did you do this?\n",
    "\n",
    "> Many of the `employment_status_duration` values were equal to zero which was a little unusual. On further investigation. the `stated_monthly_income` also followed the same pattern confirming the hypothesis that these records correspond to the applicants who are just starting off their career. No changes were made to clean up the data."
   ]
  },
  {
   "cell_type": "markdown",
   "metadata": {},
   "source": [
    "## Bivariate Exploration\n",
    "\n",
    "> Let's start by looking at the pairwise correlation between the features of the dataset."
   ]
  },
  {
   "cell_type": "code",
   "execution_count": null,
   "metadata": {},
   "outputs": [],
   "source": []
  },
  {
   "cell_type": "markdown",
   "metadata": {},
   "source": [
    "### Talk about some of the relationships you observed in this part of the investigation. How did the feature(s) of interest vary with other features in the dataset?\n",
    "\n",
    "> Your answer here!\n",
    "\n",
    "### Did you observe any interesting relationships between the other features (not the main feature(s) of interest)?\n",
    "\n",
    "> Your answer here!"
   ]
  },
  {
   "cell_type": "markdown",
   "metadata": {},
   "source": [
    "## Multivariate Exploration\n",
    "\n",
    "> Create plots of three or more variables to investigate your data even\n",
    "further. Make sure that your investigations are justified, and follow from\n",
    "your work in the previous sections."
   ]
  },
  {
   "cell_type": "code",
   "execution_count": null,
   "metadata": {},
   "outputs": [],
   "source": []
  },
  {
   "cell_type": "markdown",
   "metadata": {},
   "source": [
    "### Talk about some of the relationships you observed in this part of the investigation. Were there features that strengthened each other in terms of looking at your feature(s) of interest?\n",
    "\n",
    "> Your answer here!\n",
    "\n",
    "### Were there any interesting or surprising interactions between features?\n",
    "\n",
    "> Your answer here!"
   ]
  },
  {
   "cell_type": "markdown",
   "metadata": {},
   "source": [
    "> At the end of your report, make sure that you export the notebook as an\n",
    "html file from the `File > Download as... > HTML` menu. Make sure you keep\n",
    "track of where the exported file goes, so you can put it in the same folder\n",
    "as this notebook for project submission. Also, make sure you remove all of\n",
    "the quote-formatted guide notes like this one before you finish your report!"
   ]
  }
 ],
 "metadata": {
  "kernelspec": {
   "display_name": "data_visualizaion",
   "language": "python",
   "name": "data_visualization"
  },
  "language_info": {
   "codemirror_mode": {
    "name": "ipython",
    "version": 3
   },
   "file_extension": ".py",
   "mimetype": "text/x-python",
   "name": "python",
   "nbconvert_exporter": "python",
   "pygments_lexer": "ipython3",
   "version": "3.6.9"
  }
 },
 "nbformat": 4,
 "nbformat_minor": 2
}
