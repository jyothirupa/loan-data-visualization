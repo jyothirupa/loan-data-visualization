{
 "cells": [
  {
   "cell_type": "markdown",
   "metadata": {},
   "source": [
    "# Exploratory Analysis of Loan Data from Prosper\n",
    "\n",
    "## Preliminary Wrangling\n",
    "\n",
    "This notebook explores a dataset containing 113,937 loans with 81 fields on each loan."
   ]
  },
  {
   "cell_type": "code",
   "execution_count": 1,
   "metadata": {},
   "outputs": [],
   "source": [
    "# importing all necessary packages and setting plots to be embedded inline\n",
    "import numpy as np\n",
    "import pandas as pd\n",
    "import matplotlib.pyplot as plt\n",
    "import seaborn as sb\n",
    "\n",
    "%matplotlib inline\n",
    "sb.set(rc={'figure.figsize':(10, 10)})"
   ]
  },
  {
   "cell_type": "markdown",
   "metadata": {},
   "source": [
    "> Loading the data into a dataframe"
   ]
  },
  {
   "cell_type": "code",
   "execution_count": 2,
   "metadata": {},
   "outputs": [
    {
     "data": {
      "text/html": [
       "<div>\n",
       "<style scoped>\n",
       "    .dataframe tbody tr th:only-of-type {\n",
       "        vertical-align: middle;\n",
       "    }\n",
       "\n",
       "    .dataframe tbody tr th {\n",
       "        vertical-align: top;\n",
       "    }\n",
       "\n",
       "    .dataframe thead th {\n",
       "        text-align: right;\n",
       "    }\n",
       "</style>\n",
       "<table border=\"1\" class=\"dataframe\">\n",
       "  <thead>\n",
       "    <tr style=\"text-align: right;\">\n",
       "      <th></th>\n",
       "      <th>ListingKey</th>\n",
       "      <th>ListingNumber</th>\n",
       "      <th>ListingCreationDate</th>\n",
       "      <th>CreditGrade</th>\n",
       "      <th>Term</th>\n",
       "      <th>LoanStatus</th>\n",
       "      <th>ClosedDate</th>\n",
       "      <th>BorrowerAPR</th>\n",
       "      <th>BorrowerRate</th>\n",
       "      <th>LenderYield</th>\n",
       "      <th>...</th>\n",
       "      <th>LP_ServiceFees</th>\n",
       "      <th>LP_CollectionFees</th>\n",
       "      <th>LP_GrossPrincipalLoss</th>\n",
       "      <th>LP_NetPrincipalLoss</th>\n",
       "      <th>LP_NonPrincipalRecoverypayments</th>\n",
       "      <th>PercentFunded</th>\n",
       "      <th>Recommendations</th>\n",
       "      <th>InvestmentFromFriendsCount</th>\n",
       "      <th>InvestmentFromFriendsAmount</th>\n",
       "      <th>Investors</th>\n",
       "    </tr>\n",
       "  </thead>\n",
       "  <tbody>\n",
       "    <tr>\n",
       "      <th>0</th>\n",
       "      <td>1021339766868145413AB3B</td>\n",
       "      <td>193129</td>\n",
       "      <td>2007-08-26 19:09:29.263000000</td>\n",
       "      <td>C</td>\n",
       "      <td>36</td>\n",
       "      <td>Completed</td>\n",
       "      <td>2009-08-14 00:00:00</td>\n",
       "      <td>0.16516</td>\n",
       "      <td>0.1580</td>\n",
       "      <td>0.1380</td>\n",
       "      <td>...</td>\n",
       "      <td>-133.18</td>\n",
       "      <td>0.0</td>\n",
       "      <td>0.0</td>\n",
       "      <td>0.0</td>\n",
       "      <td>0.0</td>\n",
       "      <td>1.0</td>\n",
       "      <td>0</td>\n",
       "      <td>0</td>\n",
       "      <td>0.0</td>\n",
       "      <td>258</td>\n",
       "    </tr>\n",
       "    <tr>\n",
       "      <th>1</th>\n",
       "      <td>10273602499503308B223C1</td>\n",
       "      <td>1209647</td>\n",
       "      <td>2014-02-27 08:28:07.900000000</td>\n",
       "      <td>NaN</td>\n",
       "      <td>36</td>\n",
       "      <td>Current</td>\n",
       "      <td>NaN</td>\n",
       "      <td>0.12016</td>\n",
       "      <td>0.0920</td>\n",
       "      <td>0.0820</td>\n",
       "      <td>...</td>\n",
       "      <td>0.00</td>\n",
       "      <td>0.0</td>\n",
       "      <td>0.0</td>\n",
       "      <td>0.0</td>\n",
       "      <td>0.0</td>\n",
       "      <td>1.0</td>\n",
       "      <td>0</td>\n",
       "      <td>0</td>\n",
       "      <td>0.0</td>\n",
       "      <td>1</td>\n",
       "    </tr>\n",
       "    <tr>\n",
       "      <th>2</th>\n",
       "      <td>0EE9337825851032864889A</td>\n",
       "      <td>81716</td>\n",
       "      <td>2007-01-05 15:00:47.090000000</td>\n",
       "      <td>HR</td>\n",
       "      <td>36</td>\n",
       "      <td>Completed</td>\n",
       "      <td>2009-12-17 00:00:00</td>\n",
       "      <td>0.28269</td>\n",
       "      <td>0.2750</td>\n",
       "      <td>0.2400</td>\n",
       "      <td>...</td>\n",
       "      <td>-24.20</td>\n",
       "      <td>0.0</td>\n",
       "      <td>0.0</td>\n",
       "      <td>0.0</td>\n",
       "      <td>0.0</td>\n",
       "      <td>1.0</td>\n",
       "      <td>0</td>\n",
       "      <td>0</td>\n",
       "      <td>0.0</td>\n",
       "      <td>41</td>\n",
       "    </tr>\n",
       "    <tr>\n",
       "      <th>3</th>\n",
       "      <td>0EF5356002482715299901A</td>\n",
       "      <td>658116</td>\n",
       "      <td>2012-10-22 11:02:35.010000000</td>\n",
       "      <td>NaN</td>\n",
       "      <td>36</td>\n",
       "      <td>Current</td>\n",
       "      <td>NaN</td>\n",
       "      <td>0.12528</td>\n",
       "      <td>0.0974</td>\n",
       "      <td>0.0874</td>\n",
       "      <td>...</td>\n",
       "      <td>-108.01</td>\n",
       "      <td>0.0</td>\n",
       "      <td>0.0</td>\n",
       "      <td>0.0</td>\n",
       "      <td>0.0</td>\n",
       "      <td>1.0</td>\n",
       "      <td>0</td>\n",
       "      <td>0</td>\n",
       "      <td>0.0</td>\n",
       "      <td>158</td>\n",
       "    </tr>\n",
       "    <tr>\n",
       "      <th>4</th>\n",
       "      <td>0F023589499656230C5E3E2</td>\n",
       "      <td>909464</td>\n",
       "      <td>2013-09-14 18:38:39.097000000</td>\n",
       "      <td>NaN</td>\n",
       "      <td>36</td>\n",
       "      <td>Current</td>\n",
       "      <td>NaN</td>\n",
       "      <td>0.24614</td>\n",
       "      <td>0.2085</td>\n",
       "      <td>0.1985</td>\n",
       "      <td>...</td>\n",
       "      <td>-60.27</td>\n",
       "      <td>0.0</td>\n",
       "      <td>0.0</td>\n",
       "      <td>0.0</td>\n",
       "      <td>0.0</td>\n",
       "      <td>1.0</td>\n",
       "      <td>0</td>\n",
       "      <td>0</td>\n",
       "      <td>0.0</td>\n",
       "      <td>20</td>\n",
       "    </tr>\n",
       "  </tbody>\n",
       "</table>\n",
       "<p>5 rows × 81 columns</p>\n",
       "</div>"
      ],
      "text/plain": [
       "                ListingKey  ListingNumber            ListingCreationDate  \\\n",
       "0  1021339766868145413AB3B         193129  2007-08-26 19:09:29.263000000   \n",
       "1  10273602499503308B223C1        1209647  2014-02-27 08:28:07.900000000   \n",
       "2  0EE9337825851032864889A          81716  2007-01-05 15:00:47.090000000   \n",
       "3  0EF5356002482715299901A         658116  2012-10-22 11:02:35.010000000   \n",
       "4  0F023589499656230C5E3E2         909464  2013-09-14 18:38:39.097000000   \n",
       "\n",
       "  CreditGrade  Term LoanStatus           ClosedDate  BorrowerAPR  \\\n",
       "0           C    36  Completed  2009-08-14 00:00:00      0.16516   \n",
       "1         NaN    36    Current                  NaN      0.12016   \n",
       "2          HR    36  Completed  2009-12-17 00:00:00      0.28269   \n",
       "3         NaN    36    Current                  NaN      0.12528   \n",
       "4         NaN    36    Current                  NaN      0.24614   \n",
       "\n",
       "   BorrowerRate  LenderYield  ...  LP_ServiceFees  LP_CollectionFees  \\\n",
       "0        0.1580       0.1380  ...         -133.18                0.0   \n",
       "1        0.0920       0.0820  ...            0.00                0.0   \n",
       "2        0.2750       0.2400  ...          -24.20                0.0   \n",
       "3        0.0974       0.0874  ...         -108.01                0.0   \n",
       "4        0.2085       0.1985  ...          -60.27                0.0   \n",
       "\n",
       "   LP_GrossPrincipalLoss  LP_NetPrincipalLoss LP_NonPrincipalRecoverypayments  \\\n",
       "0                    0.0                  0.0                             0.0   \n",
       "1                    0.0                  0.0                             0.0   \n",
       "2                    0.0                  0.0                             0.0   \n",
       "3                    0.0                  0.0                             0.0   \n",
       "4                    0.0                  0.0                             0.0   \n",
       "\n",
       "   PercentFunded  Recommendations InvestmentFromFriendsCount  \\\n",
       "0            1.0                0                          0   \n",
       "1            1.0                0                          0   \n",
       "2            1.0                0                          0   \n",
       "3            1.0                0                          0   \n",
       "4            1.0                0                          0   \n",
       "\n",
       "  InvestmentFromFriendsAmount Investors  \n",
       "0                         0.0       258  \n",
       "1                         0.0         1  \n",
       "2                         0.0        41  \n",
       "3                         0.0       158  \n",
       "4                         0.0        20  \n",
       "\n",
       "[5 rows x 81 columns]"
      ]
     },
     "execution_count": 2,
     "metadata": {},
     "output_type": "execute_result"
    }
   ],
   "source": [
    "# reading the CSV and loading the data into a dataframe\n",
    "loan_data = pd.read_csv('prosperLoanData.csv', index_col=None)\n",
    "loan_data.head()"
   ]
  },
  {
   "cell_type": "code",
   "execution_count": 3,
   "metadata": {},
   "outputs": [
    {
     "data": {
      "text/plain": [
       "(113937, 81)"
      ]
     },
     "execution_count": 3,
     "metadata": {},
     "output_type": "execute_result"
    }
   ],
   "source": [
    "# getting the shape of the dataset\n",
    "loan_data.shape"
   ]
  },
  {
   "cell_type": "markdown",
   "metadata": {},
   "source": [
    "There are 81 fields available for each of the loan records. We will focus on only a few (20 fields) of these fields for further exploratory analysis. So, we can remove the rest of the fields from the dataset."
   ]
  },
  {
   "cell_type": "code",
   "execution_count": 4,
   "metadata": {},
   "outputs": [
    {
     "data": {
      "text/plain": [
       "(113937, 15)"
      ]
     },
     "execution_count": 4,
     "metadata": {},
     "output_type": "execute_result"
    }
   ],
   "source": [
    "# retaining only the required columns in the dataframe\n",
    "loan_data = loan_data[['LoanNumber', 'LoanOriginalAmount', 'LoanOriginationDate', 'ListingNumber', 'Term', 'LoanStatus', 'BorrowerRate', 'ProsperScore', 'ListingCategory (numeric)', 'BorrowerState', 'Occupation', 'EmploymentStatus', 'IsBorrowerHomeowner', 'IncomeRange', 'Recommendations']]\n",
    "loan_data.shape"
   ]
  },
  {
   "cell_type": "code",
   "execution_count": 5,
   "metadata": {},
   "outputs": [
    {
     "data": {
      "text/html": [
       "<div>\n",
       "<style scoped>\n",
       "    .dataframe tbody tr th:only-of-type {\n",
       "        vertical-align: middle;\n",
       "    }\n",
       "\n",
       "    .dataframe tbody tr th {\n",
       "        vertical-align: top;\n",
       "    }\n",
       "\n",
       "    .dataframe thead th {\n",
       "        text-align: right;\n",
       "    }\n",
       "</style>\n",
       "<table border=\"1\" class=\"dataframe\">\n",
       "  <thead>\n",
       "    <tr style=\"text-align: right;\">\n",
       "      <th></th>\n",
       "      <th>loan_number</th>\n",
       "      <th>loan_original_amount</th>\n",
       "      <th>loan_origination_date</th>\n",
       "      <th>listing_number</th>\n",
       "      <th>term</th>\n",
       "      <th>loan_status</th>\n",
       "      <th>borrower_rate</th>\n",
       "      <th>prosper_score</th>\n",
       "      <th>listing_category</th>\n",
       "      <th>borrower_state</th>\n",
       "      <th>occupation</th>\n",
       "      <th>employment_status</th>\n",
       "      <th>is_borrower_homeowner</th>\n",
       "      <th>income_range</th>\n",
       "      <th>recommendations</th>\n",
       "    </tr>\n",
       "  </thead>\n",
       "  <tbody>\n",
       "    <tr>\n",
       "      <th>0</th>\n",
       "      <td>19141</td>\n",
       "      <td>9425</td>\n",
       "      <td>2007-09-12 00:00:00</td>\n",
       "      <td>193129</td>\n",
       "      <td>36</td>\n",
       "      <td>Completed</td>\n",
       "      <td>0.1580</td>\n",
       "      <td>NaN</td>\n",
       "      <td>0</td>\n",
       "      <td>CO</td>\n",
       "      <td>Other</td>\n",
       "      <td>Self-employed</td>\n",
       "      <td>True</td>\n",
       "      <td>$25,000-49,999</td>\n",
       "      <td>0</td>\n",
       "    </tr>\n",
       "    <tr>\n",
       "      <th>1</th>\n",
       "      <td>134815</td>\n",
       "      <td>10000</td>\n",
       "      <td>2014-03-03 00:00:00</td>\n",
       "      <td>1209647</td>\n",
       "      <td>36</td>\n",
       "      <td>Current</td>\n",
       "      <td>0.0920</td>\n",
       "      <td>7.0</td>\n",
       "      <td>2</td>\n",
       "      <td>CO</td>\n",
       "      <td>Professional</td>\n",
       "      <td>Employed</td>\n",
       "      <td>False</td>\n",
       "      <td>$50,000-74,999</td>\n",
       "      <td>0</td>\n",
       "    </tr>\n",
       "    <tr>\n",
       "      <th>2</th>\n",
       "      <td>6466</td>\n",
       "      <td>3001</td>\n",
       "      <td>2007-01-17 00:00:00</td>\n",
       "      <td>81716</td>\n",
       "      <td>36</td>\n",
       "      <td>Completed</td>\n",
       "      <td>0.2750</td>\n",
       "      <td>NaN</td>\n",
       "      <td>0</td>\n",
       "      <td>GA</td>\n",
       "      <td>Other</td>\n",
       "      <td>Not available</td>\n",
       "      <td>False</td>\n",
       "      <td>Not displayed</td>\n",
       "      <td>0</td>\n",
       "    </tr>\n",
       "    <tr>\n",
       "      <th>3</th>\n",
       "      <td>77296</td>\n",
       "      <td>10000</td>\n",
       "      <td>2012-11-01 00:00:00</td>\n",
       "      <td>658116</td>\n",
       "      <td>36</td>\n",
       "      <td>Current</td>\n",
       "      <td>0.0974</td>\n",
       "      <td>9.0</td>\n",
       "      <td>16</td>\n",
       "      <td>GA</td>\n",
       "      <td>Skilled Labor</td>\n",
       "      <td>Employed</td>\n",
       "      <td>True</td>\n",
       "      <td>$25,000-49,999</td>\n",
       "      <td>0</td>\n",
       "    </tr>\n",
       "    <tr>\n",
       "      <th>4</th>\n",
       "      <td>102670</td>\n",
       "      <td>15000</td>\n",
       "      <td>2013-09-20 00:00:00</td>\n",
       "      <td>909464</td>\n",
       "      <td>36</td>\n",
       "      <td>Current</td>\n",
       "      <td>0.2085</td>\n",
       "      <td>4.0</td>\n",
       "      <td>2</td>\n",
       "      <td>MN</td>\n",
       "      <td>Executive</td>\n",
       "      <td>Employed</td>\n",
       "      <td>True</td>\n",
       "      <td>$100,000+</td>\n",
       "      <td>0</td>\n",
       "    </tr>\n",
       "  </tbody>\n",
       "</table>\n",
       "</div>"
      ],
      "text/plain": [
       "   loan_number  loan_original_amount loan_origination_date  listing_number  \\\n",
       "0        19141                  9425   2007-09-12 00:00:00          193129   \n",
       "1       134815                 10000   2014-03-03 00:00:00         1209647   \n",
       "2         6466                  3001   2007-01-17 00:00:00           81716   \n",
       "3        77296                 10000   2012-11-01 00:00:00          658116   \n",
       "4       102670                 15000   2013-09-20 00:00:00          909464   \n",
       "\n",
       "   term loan_status  borrower_rate  prosper_score  listing_category  \\\n",
       "0    36   Completed         0.1580            NaN                 0   \n",
       "1    36     Current         0.0920            7.0                 2   \n",
       "2    36   Completed         0.2750            NaN                 0   \n",
       "3    36     Current         0.0974            9.0                16   \n",
       "4    36     Current         0.2085            4.0                 2   \n",
       "\n",
       "  borrower_state     occupation employment_status  is_borrower_homeowner  \\\n",
       "0             CO          Other     Self-employed                   True   \n",
       "1             CO   Professional          Employed                  False   \n",
       "2             GA          Other     Not available                  False   \n",
       "3             GA  Skilled Labor          Employed                   True   \n",
       "4             MN      Executive          Employed                   True   \n",
       "\n",
       "     income_range  recommendations  \n",
       "0  $25,000-49,999                0  \n",
       "1  $50,000-74,999                0  \n",
       "2   Not displayed                0  \n",
       "3  $25,000-49,999                0  \n",
       "4       $100,000+                0  "
      ]
     },
     "execution_count": 5,
     "metadata": {},
     "output_type": "execute_result"
    }
   ],
   "source": [
    "# renaming the columns\n",
    "loan_data.columns = ['loan_number', 'loan_original_amount', 'loan_origination_date', 'listing_number', 'term', 'loan_status', \n",
    "                     'borrower_rate', 'prosper_score', 'listing_category', 'borrower_state', 'occupation', 'employment_status', \n",
    "                     'is_borrower_homeowner', 'income_range', 'recommendations']\n",
    "loan_data.head()"
   ]
  },
  {
   "cell_type": "code",
   "execution_count": 6,
   "metadata": {},
   "outputs": [
    {
     "name": "stdout",
     "output_type": "stream",
     "text": [
      "<class 'pandas.core.frame.DataFrame'>\n",
      "RangeIndex: 113937 entries, 0 to 113936\n",
      "Data columns (total 15 columns):\n",
      " #   Column                 Non-Null Count   Dtype  \n",
      "---  ------                 --------------   -----  \n",
      " 0   loan_number            113937 non-null  int64  \n",
      " 1   loan_original_amount   113937 non-null  int64  \n",
      " 2   loan_origination_date  113937 non-null  object \n",
      " 3   listing_number         113937 non-null  int64  \n",
      " 4   term                   113937 non-null  int64  \n",
      " 5   loan_status            113937 non-null  object \n",
      " 6   borrower_rate          113937 non-null  float64\n",
      " 7   prosper_score          84853 non-null   float64\n",
      " 8   listing_category       113937 non-null  int64  \n",
      " 9   borrower_state         108422 non-null  object \n",
      " 10  occupation             110349 non-null  object \n",
      " 11  employment_status      111682 non-null  object \n",
      " 12  is_borrower_homeowner  113937 non-null  bool   \n",
      " 13  income_range           113937 non-null  object \n",
      " 14  recommendations        113937 non-null  int64  \n",
      "dtypes: bool(1), float64(2), int64(6), object(6)\n",
      "memory usage: 12.3+ MB\n"
     ]
    }
   ],
   "source": [
    "# getting information regarding data type and missing values for each field\n",
    "loan_data.info()"
   ]
  },
  {
   "cell_type": "markdown",
   "metadata": {},
   "source": [
    "> Handling the missing values and checking data types of fields in the dataset"
   ]
  },
  {
   "cell_type": "markdown",
   "metadata": {},
   "source": [
    "We observe that the following fields have missing values - `prosper_score`, `borrower_state`, `occupation`, and `employment_status`"
   ]
  },
  {
   "cell_type": "markdown",
   "metadata": {},
   "source": [
    "The data types of the fields should also be checked before proceeding with the exploratory analysis. `loan_origination_date` should be of datetime format rather than string. `employment_status`, `income_range` and `loan_status` should be categorical fields rather than strings."
   ]
  },
  {
   "cell_type": "markdown",
   "metadata": {},
   "source": [
    "(1) Risk score (`prosper_score`)"
   ]
  },
  {
   "cell_type": "code",
   "execution_count": 7,
   "metadata": {},
   "outputs": [
    {
     "data": {
      "text/plain": [
       "array([nan,  7.,  9.,  4., 10.,  2., 11.,  8.,  5.,  3.,  6.,  1.])"
      ]
     },
     "execution_count": 7,
     "metadata": {},
     "output_type": "execute_result"
    }
   ],
   "source": [
    "# getting the unique values of prosper score\n",
    "loan_data.prosper_score.unique()"
   ]
  },
  {
   "cell_type": "code",
   "execution_count": 8,
   "metadata": {},
   "outputs": [],
   "source": [
    "# replacing null values with 0 (prosper score not available)\n",
    "loan_data.prosper_score.fillna(0, inplace=True)"
   ]
  },
  {
   "cell_type": "code",
   "execution_count": 9,
   "metadata": {},
   "outputs": [
    {
     "data": {
      "text/plain": [
       "dtype('int64')"
      ]
     },
     "execution_count": 9,
     "metadata": {},
     "output_type": "execute_result"
    }
   ],
   "source": [
    "# converting the field to integer data type since the values never have decimal values\n",
    "loan_data.prosper_score = loan_data.prosper_score.astype(np.int64)\n",
    "# checking if the conversion is successful\n",
    "loan_data.prosper_score.dtype"
   ]
  },
  {
   "cell_type": "markdown",
   "metadata": {},
   "source": [
    "(2) Borrower's State (`borrower_state`)"
   ]
  },
  {
   "cell_type": "code",
   "execution_count": 10,
   "metadata": {},
   "outputs": [
    {
     "data": {
      "text/plain": [
       "array(['CO', 'GA', 'MN', 'NM', 'KS', 'CA', 'IL', 'MD', nan, 'AL', 'AZ',\n",
       "       'VA', 'FL', 'PA', 'OR', 'MI', 'NY', 'LA', 'WI', 'OH', 'NC', 'WA',\n",
       "       'NV', 'NJ', 'TX', 'AR', 'SC', 'DE', 'MO', 'NE', 'UT', 'DC', 'MA',\n",
       "       'CT', 'IN', 'KY', 'OK', 'MS', 'WV', 'RI', 'TN', 'ID', 'MT', 'HI',\n",
       "       'NH', 'VT', 'WY', 'ME', 'AK', 'IA', 'SD', 'ND'], dtype=object)"
      ]
     },
     "execution_count": 10,
     "metadata": {},
     "output_type": "execute_result"
    }
   ],
   "source": [
    "# getting the unique values of borrower's state\n",
    "loan_data.borrower_state.unique()"
   ]
  },
  {
   "cell_type": "code",
   "execution_count": 11,
   "metadata": {},
   "outputs": [],
   "source": [
    "# replacing null values with 'Not Available' (state not available)\n",
    "loan_data.borrower_state.fillna('Not Available', inplace=True)"
   ]
  },
  {
   "cell_type": "markdown",
   "metadata": {},
   "source": [
    "(3) `occupation` and `employment_status`"
   ]
  },
  {
   "cell_type": "code",
   "execution_count": 12,
   "metadata": {},
   "outputs": [
    {
     "data": {
      "text/plain": [
       "array(['Other', 'Professional', 'Skilled Labor', 'Executive',\n",
       "       'Sales - Retail', 'Laborer', 'Food Service', 'Fireman',\n",
       "       'Waiter/Waitress', 'Construction', 'Computer Programmer',\n",
       "       'Sales - Commission', 'Retail Management', 'Engineer - Mechanical',\n",
       "       'Military Enlisted', 'Clerical', nan, 'Teacher', 'Clergy',\n",
       "       'Accountant/CPA', 'Attorney', 'Nurse (RN)', 'Analyst',\n",
       "       \"Nurse's Aide\", 'Investor', 'Realtor', 'Flight Attendant',\n",
       "       'Nurse (LPN)', 'Military Officer', 'Food Service Management',\n",
       "       'Truck Driver', 'Administrative Assistant',\n",
       "       'Police Officer/Correction Officer', 'Social Worker',\n",
       "       'Tradesman - Mechanic', 'Medical Technician', 'Professor',\n",
       "       'Postal Service', 'Civil Service', 'Pharmacist',\n",
       "       'Tradesman - Electrician', 'Scientist', 'Dentist',\n",
       "       'Engineer - Electrical', 'Architect', 'Landscaping',\n",
       "       'Tradesman - Carpenter', 'Bus Driver', 'Tradesman - Plumber',\n",
       "       'Engineer - Chemical', 'Doctor', 'Chemist',\n",
       "       'Student - College Senior', 'Principal', \"Teacher's Aide\",\n",
       "       'Pilot - Private/Commercial', 'Religious', 'Homemaker',\n",
       "       'Student - College Graduate Student', 'Student - Technical School',\n",
       "       'Psychologist', 'Biologist', 'Student - College Sophomore',\n",
       "       'Judge', 'Student - College Junior', 'Car Dealer',\n",
       "       'Student - Community College', 'Student - College Freshman'],\n",
       "      dtype=object)"
      ]
     },
     "execution_count": 12,
     "metadata": {},
     "output_type": "execute_result"
    }
   ],
   "source": [
    "# getting the unique values of occupation\n",
    "loan_data.occupation.unique()"
   ]
  },
  {
   "cell_type": "code",
   "execution_count": 13,
   "metadata": {},
   "outputs": [],
   "source": [
    "# replacing null values with 'Not Available' (occupation not available)\n",
    "loan_data.occupation.fillna('Not Available', inplace=True)"
   ]
  },
  {
   "cell_type": "code",
   "execution_count": 14,
   "metadata": {},
   "outputs": [
    {
     "data": {
      "text/plain": [
       "array(['Self-employed', 'Employed', 'Not available', 'Full-time', 'Other',\n",
       "       nan, 'Not employed', 'Part-time', 'Retired'], dtype=object)"
      ]
     },
     "execution_count": 14,
     "metadata": {},
     "output_type": "execute_result"
    }
   ],
   "source": [
    "# getting the unique values of employment status\n",
    "loan_data.employment_status.unique()"
   ]
  },
  {
   "cell_type": "code",
   "execution_count": 15,
   "metadata": {},
   "outputs": [],
   "source": [
    "# replacing null values with 'Not available' (employment status not available)\n",
    "loan_data.employment_status.fillna('Not available', inplace=True)"
   ]
  },
  {
   "cell_type": "code",
   "execution_count": 16,
   "metadata": {},
   "outputs": [],
   "source": [
    "# converting employment status to category data type\n",
    "loan_data.employment_status = loan_data.employment_status.astype('category')"
   ]
  },
  {
   "cell_type": "markdown",
   "metadata": {},
   "source": [
    "(4) `loan_origination_date`"
   ]
  },
  {
   "cell_type": "code",
   "execution_count": 17,
   "metadata": {},
   "outputs": [
    {
     "data": {
      "text/plain": [
       "dtype('<M8[ns]')"
      ]
     },
     "execution_count": 17,
     "metadata": {},
     "output_type": "execute_result"
    }
   ],
   "source": [
    "# converting loan_origination_date to datetime format\n",
    "loan_data.loan_origination_date = pd.to_datetime(loan_data.loan_origination_date)\n",
    "# checking if the convertion is successful\n",
    "loan_data.loan_origination_date.dtype"
   ]
  },
  {
   "cell_type": "markdown",
   "metadata": {},
   "source": [
    "(5) `loan_status` "
   ]
  },
  {
   "cell_type": "code",
   "execution_count": 18,
   "metadata": {},
   "outputs": [
    {
     "data": {
      "text/plain": [
       "array(['Completed', 'Current', 'Past Due (1-15 days)', 'Defaulted',\n",
       "       'Chargedoff', 'Past Due (16-30 days)', 'Cancelled',\n",
       "       'Past Due (61-90 days)', 'Past Due (31-60 days)',\n",
       "       'Past Due (91-120 days)', 'FinalPaymentInProgress',\n",
       "       'Past Due (>120 days)'], dtype=object)"
      ]
     },
     "execution_count": 18,
     "metadata": {},
     "output_type": "execute_result"
    }
   ],
   "source": [
    "# getting the unique values of loan status\n",
    "loan_data.loan_status.unique()"
   ]
  },
  {
   "cell_type": "code",
   "execution_count": 19,
   "metadata": {},
   "outputs": [],
   "source": [
    "# converting loan status to category data type\n",
    "loan_data.loan_status = loan_data.loan_status.astype('category')"
   ]
  },
  {
   "cell_type": "markdown",
   "metadata": {},
   "source": [
    "(6) `income_range`"
   ]
  },
  {
   "cell_type": "code",
   "execution_count": 20,
   "metadata": {},
   "outputs": [
    {
     "data": {
      "text/plain": [
       "array(['$25,000-49,999', '$50,000-74,999', 'Not displayed', '$100,000+',\n",
       "       '$75,000-99,999', '$1-24,999', 'Not employed', '$0'], dtype=object)"
      ]
     },
     "execution_count": 20,
     "metadata": {},
     "output_type": "execute_result"
    }
   ],
   "source": [
    "# getting the unique values of income range\n",
    "loan_data.income_range.unique()"
   ]
  },
  {
   "cell_type": "code",
   "execution_count": 21,
   "metadata": {},
   "outputs": [],
   "source": [
    "# ordered list of categories \n",
    "ordered_categories = ['Not displayed', 'Not employed', '$0', '$1-24,999', '$25,000-49,999', '$50,000-74,999', \n",
    "                      '$75,000-99,999', '$100,000+']\n",
    "# converting to ordered categorical field\n",
    "ordered_var = pd.api.types.CategoricalDtype(ordered = True, categories = ordered_categories)\n",
    "loan_data.income_range = loan_data.income_range.astype(ordered_var)"
   ]
  },
  {
   "cell_type": "code",
   "execution_count": 22,
   "metadata": {},
   "outputs": [],
   "source": [
    "# converting income range to category data type\n",
    "loan_data.income_range = loan_data.income_range.astype('category')"
   ]
  },
  {
   "cell_type": "markdown",
   "metadata": {},
   "source": [
    "> Verification"
   ]
  },
  {
   "cell_type": "code",
   "execution_count": 23,
   "metadata": {},
   "outputs": [
    {
     "name": "stdout",
     "output_type": "stream",
     "text": [
      "<class 'pandas.core.frame.DataFrame'>\n",
      "RangeIndex: 113937 entries, 0 to 113936\n",
      "Data columns (total 15 columns):\n",
      " #   Column                 Non-Null Count   Dtype         \n",
      "---  ------                 --------------   -----         \n",
      " 0   loan_number            113937 non-null  int64         \n",
      " 1   loan_original_amount   113937 non-null  int64         \n",
      " 2   loan_origination_date  113937 non-null  datetime64[ns]\n",
      " 3   listing_number         113937 non-null  int64         \n",
      " 4   term                   113937 non-null  int64         \n",
      " 5   loan_status            113937 non-null  category      \n",
      " 6   borrower_rate          113937 non-null  float64       \n",
      " 7   prosper_score          113937 non-null  int64         \n",
      " 8   listing_category       113937 non-null  int64         \n",
      " 9   borrower_state         113937 non-null  object        \n",
      " 10  occupation             113937 non-null  object        \n",
      " 11  employment_status      113937 non-null  category      \n",
      " 12  is_borrower_homeowner  113937 non-null  bool          \n",
      " 13  income_range           113937 non-null  category      \n",
      " 14  recommendations        113937 non-null  int64         \n",
      "dtypes: bool(1), category(3), datetime64[ns](1), float64(1), int64(7), object(2)\n",
      "memory usage: 10.0+ MB\n"
     ]
    }
   ],
   "source": [
    "# checking missing values and data type for each field\n",
    "loan_data.info()"
   ]
  },
  {
   "cell_type": "markdown",
   "metadata": {},
   "source": [
    "> There are now, no missing values in the dataframe."
   ]
  },
  {
   "cell_type": "code",
   "execution_count": 24,
   "metadata": {},
   "outputs": [
    {
     "data": {
      "text/html": [
       "<div>\n",
       "<style scoped>\n",
       "    .dataframe tbody tr th:only-of-type {\n",
       "        vertical-align: middle;\n",
       "    }\n",
       "\n",
       "    .dataframe tbody tr th {\n",
       "        vertical-align: top;\n",
       "    }\n",
       "\n",
       "    .dataframe thead th {\n",
       "        text-align: right;\n",
       "    }\n",
       "</style>\n",
       "<table border=\"1\" class=\"dataframe\">\n",
       "  <thead>\n",
       "    <tr style=\"text-align: right;\">\n",
       "      <th></th>\n",
       "      <th>loan_number</th>\n",
       "      <th>loan_original_amount</th>\n",
       "      <th>listing_number</th>\n",
       "      <th>term</th>\n",
       "      <th>borrower_rate</th>\n",
       "      <th>prosper_score</th>\n",
       "      <th>listing_category</th>\n",
       "      <th>recommendations</th>\n",
       "    </tr>\n",
       "  </thead>\n",
       "  <tbody>\n",
       "    <tr>\n",
       "      <th>count</th>\n",
       "      <td>113937.000000</td>\n",
       "      <td>113937.00000</td>\n",
       "      <td>1.139370e+05</td>\n",
       "      <td>113937.000000</td>\n",
       "      <td>113937.000000</td>\n",
       "      <td>113937.00000</td>\n",
       "      <td>113937.000000</td>\n",
       "      <td>113937.000000</td>\n",
       "    </tr>\n",
       "    <tr>\n",
       "      <th>mean</th>\n",
       "      <td>69444.474271</td>\n",
       "      <td>8337.01385</td>\n",
       "      <td>6.278857e+05</td>\n",
       "      <td>40.830248</td>\n",
       "      <td>0.192764</td>\n",
       "      <td>4.43123</td>\n",
       "      <td>2.774209</td>\n",
       "      <td>0.048027</td>\n",
       "    </tr>\n",
       "    <tr>\n",
       "      <th>std</th>\n",
       "      <td>38930.479610</td>\n",
       "      <td>6245.80058</td>\n",
       "      <td>3.280762e+05</td>\n",
       "      <td>10.436212</td>\n",
       "      <td>0.074818</td>\n",
       "      <td>3.30703</td>\n",
       "      <td>3.996797</td>\n",
       "      <td>0.332353</td>\n",
       "    </tr>\n",
       "    <tr>\n",
       "      <th>min</th>\n",
       "      <td>1.000000</td>\n",
       "      <td>1000.00000</td>\n",
       "      <td>4.000000e+00</td>\n",
       "      <td>12.000000</td>\n",
       "      <td>0.000000</td>\n",
       "      <td>0.00000</td>\n",
       "      <td>0.000000</td>\n",
       "      <td>0.000000</td>\n",
       "    </tr>\n",
       "    <tr>\n",
       "      <th>25%</th>\n",
       "      <td>37332.000000</td>\n",
       "      <td>4000.00000</td>\n",
       "      <td>4.009190e+05</td>\n",
       "      <td>36.000000</td>\n",
       "      <td>0.134000</td>\n",
       "      <td>0.00000</td>\n",
       "      <td>1.000000</td>\n",
       "      <td>0.000000</td>\n",
       "    </tr>\n",
       "    <tr>\n",
       "      <th>50%</th>\n",
       "      <td>68599.000000</td>\n",
       "      <td>6500.00000</td>\n",
       "      <td>6.005540e+05</td>\n",
       "      <td>36.000000</td>\n",
       "      <td>0.184000</td>\n",
       "      <td>5.00000</td>\n",
       "      <td>1.000000</td>\n",
       "      <td>0.000000</td>\n",
       "    </tr>\n",
       "    <tr>\n",
       "      <th>75%</th>\n",
       "      <td>101901.000000</td>\n",
       "      <td>12000.00000</td>\n",
       "      <td>8.926340e+05</td>\n",
       "      <td>36.000000</td>\n",
       "      <td>0.250000</td>\n",
       "      <td>7.00000</td>\n",
       "      <td>3.000000</td>\n",
       "      <td>0.000000</td>\n",
       "    </tr>\n",
       "    <tr>\n",
       "      <th>max</th>\n",
       "      <td>136486.000000</td>\n",
       "      <td>35000.00000</td>\n",
       "      <td>1.255725e+06</td>\n",
       "      <td>60.000000</td>\n",
       "      <td>0.497500</td>\n",
       "      <td>11.00000</td>\n",
       "      <td>20.000000</td>\n",
       "      <td>39.000000</td>\n",
       "    </tr>\n",
       "  </tbody>\n",
       "</table>\n",
       "</div>"
      ],
      "text/plain": [
       "         loan_number  loan_original_amount  listing_number           term  \\\n",
       "count  113937.000000          113937.00000    1.139370e+05  113937.000000   \n",
       "mean    69444.474271            8337.01385    6.278857e+05      40.830248   \n",
       "std     38930.479610            6245.80058    3.280762e+05      10.436212   \n",
       "min         1.000000            1000.00000    4.000000e+00      12.000000   \n",
       "25%     37332.000000            4000.00000    4.009190e+05      36.000000   \n",
       "50%     68599.000000            6500.00000    6.005540e+05      36.000000   \n",
       "75%    101901.000000           12000.00000    8.926340e+05      36.000000   \n",
       "max    136486.000000           35000.00000    1.255725e+06      60.000000   \n",
       "\n",
       "       borrower_rate  prosper_score  listing_category  recommendations  \n",
       "count  113937.000000   113937.00000     113937.000000    113937.000000  \n",
       "mean        0.192764        4.43123          2.774209         0.048027  \n",
       "std         0.074818        3.30703          3.996797         0.332353  \n",
       "min         0.000000        0.00000          0.000000         0.000000  \n",
       "25%         0.134000        0.00000          1.000000         0.000000  \n",
       "50%         0.184000        5.00000          1.000000         0.000000  \n",
       "75%         0.250000        7.00000          3.000000         0.000000  \n",
       "max         0.497500       11.00000         20.000000        39.000000  "
      ]
     },
     "execution_count": 24,
     "metadata": {},
     "output_type": "execute_result"
    }
   ],
   "source": [
    "# getting the quartile values and other statistics for the numerical fields\n",
    "loan_data.describe()"
   ]
  },
  {
   "cell_type": "markdown",
   "metadata": {},
   "source": [
    "### What is the structure of your dataset?\n",
    "\n",
    "> There are 113,937 loans in the dataset with 81 features out of which we have retained 15 features in order to limit the scope of the analysis. Most variables are numeric in nature, but the variables `loan_status`, `employment_status` and `income_range` are categorical in nature. Further, `income_range` is ordered.\n",
    "\n",
    "### What is/are the main feature(s) of interest in your dataset?\n",
    "\n",
    "> The features of interest are those that are useful to predict the status of the loan.\n",
    "\n",
    "### What features in the dataset do you think will help support your investigation into your feature(s) of interest?\n",
    "\n",
    "> I expect the employment status of the borrower, income range, prosper score and term to play a major role in the analysis."
   ]
  },
  {
   "cell_type": "markdown",
   "metadata": {},
   "source": [
    "### Utility Functions\n",
    "\n",
    "> These functions will be used so as to avoid repeatation of code that will be frequently required"
   ]
  },
  {
   "cell_type": "code",
   "execution_count": 25,
   "metadata": {},
   "outputs": [],
   "source": [
    "# if variable is a discrete numerical variable, a continuously binned histogram can be confusing, \n",
    "# we set the width of the bars to 70% of the actual width and modify the ticks\n",
    "\n",
    "# function to plot a histogram\n",
    "def draw_histogram(data, x, bins, x_ticks, x_label, y_label, title, discrete_variable, rotation=0):\n",
    "    # setting the figure size\n",
    "    plt.figure(figsize=[10, 8])\n",
    "    \n",
    "    # setting the bar width to 0.7 if the variable is discrete\n",
    "    if discrete_variable:\n",
    "        rwidth = 0.7\n",
    "    else:\n",
    "        rwidth = 1\n",
    "    \n",
    "    # plotting the histogram\n",
    "    plt.hist(data = data, x = x, bins = bins, rwidth = rwidth)\n",
    "    # specifying the X and Y axes labels\n",
    "    plt.xlabel(x_label)\n",
    "    plt.ylabel(y_label)\n",
    "    # specifying the X ticks and rotation\n",
    "    plt.xticks(x_ticks, rotation=rotation)\n",
    "    # setting the title of the plot\n",
    "    plt.title(title);"
   ]
  },
  {
   "cell_type": "code",
   "execution_count": 26,
   "metadata": {},
   "outputs": [],
   "source": [
    "# function to plot a countplot\n",
    "def draw_countplot(data, x, x_label, y_label, title, y_ticks, rotation=0):\n",
    "    # setting the color to blue\n",
    "    default_color = sb.color_palette()[0]\n",
    "    \n",
    "    # plotting the countplot\n",
    "    g = sb.countplot(x=x, data=data, color=default_color, order = data[x].value_counts().index)\n",
    "    # specifying the X tick labels\n",
    "    g.set_xticklabels(g.get_xticklabels(), rotation=rotation)\n",
    "    # specifying the X and Y axes labels\n",
    "    g.set_xlabel(x_label)\n",
    "    g.set_ylabel(y_label)\n",
    "    # specifying the Y ticks\n",
    "    if y_ticks.size != 0:\n",
    "        g.set_yticks(y_ticks)\n",
    "    # setting the title of the plot\n",
    "    g.set_title(title);"
   ]
  },
  {
   "cell_type": "markdown",
   "metadata": {},
   "source": [
    "## Univariate Exploration\n",
    "\n",
    "> Let's take a look at the feature of interest - `loan_status`"
   ]
  },
  {
   "cell_type": "code",
   "execution_count": 27,
   "metadata": {},
   "outputs": [
    {
     "data": {
      "image/png": "[encoded data removed]",
      "text/plain": [
       "<Figure size 720x720 with 1 Axes>"
      ]
     },
     "metadata": {},
     "output_type": "display_data"
    }
   ],
   "source": [
    "y_ticks = np.arange(0, 60000, 5000)\n",
    "\n",
    "draw_countplot(loan_data, 'loan_status', 'Loan Status', 'Count', 'Distribution of Loan Status', y_ticks, 75)"
   ]
  },
  {
   "cell_type": "markdown",
   "metadata": {},
   "source": [
    "> The most number of loans have **current status** and the least number of loans have **cancelled** status."
   ]
  },
  {
   "cell_type": "markdown",
   "metadata": {},
   "source": [
    "> Next, let us explore the features that might influence the prediction of the loan status starting with the categorical features `employment_status` and `income_range`."
   ]
  },
  {
   "cell_type": "code",
   "execution_count": 28,
   "metadata": {},
   "outputs": [
    {
     "data": {
      "image/png": "[encoded data removed]",
      "text/plain": [
       "<Figure size 1080x720 with 2 Axes>"
      ]
     },
     "metadata": {},
     "output_type": "display_data"
    }
   ],
   "source": [
    "# # setting the color to blue\n",
    "default_color = sb.color_palette()[0]\n",
    "\n",
    "# plotting both features to get an idea of each categorical variable's distribution\n",
    "fig, ax = plt.subplots(ncols=2, figsize = [15, 10])\n",
    "\n",
    "g1 = sb.countplot(data = loan_data, x = 'employment_status', color = default_color, order = loan_data['employment_status'].value_counts().index, ax = ax[0])\n",
    "\n",
    "g1.set_xticklabels(g1.get_xticklabels(), rotation=75)\n",
    "g1.set_xlabel('Employment Status')\n",
    "g1.set_ylabel('Count')\n",
    "g1.set_title('Distribution of Employment Status')\n",
    "\n",
    "g2 = sb.countplot(data = loan_data, x = 'income_range', color = default_color, ax = ax[1])\n",
    "\n",
    "g2.set_xticklabels(g2.get_xticklabels(), rotation=75)\n",
    "g2.set_xlabel('Income Range')\n",
    "g2.set_ylabel('Count')\n",
    "g2.set_title('Distribution of Income Range')\n",
    "\n",
    "plt.show();"
   ]
  },
  {
   "cell_type": "markdown",
   "metadata": {},
   "source": [
    "> From the above graphs, we can observe that the majority of the loan applicants are employed and most of the applicants make 25,000 dollars or more"
   ]
  },
  {
   "cell_type": "markdown",
   "metadata": {},
   "source": [
    "> Let's now look at `borrower_rate`, `prosper_score` and `term`"
   ]
  },
  {
   "cell_type": "code",
   "execution_count": 29,
   "metadata": {},
   "outputs": [
    {
     "data": {
      "image/png": "[encoded data removed]",
      "text/plain": [
       "<Figure size 720x576 with 1 Axes>"
      ]
     },
     "metadata": {},
     "output_type": "display_data"
    }
   ],
   "source": [
    "# plotting the distribution of term\n",
    "bins = np.arange(6, loan_data['term'].max()+18, 12)\n",
    "x_ticks = np.arange(12, loan_data['term'].max()+12, 12)\n",
    "\n",
    "draw_histogram(loan_data, 'term', bins, x_ticks, 'Term', 'Count', 'Distribution of Term', True)"
   ]
  },
  {
   "cell_type": "markdown",
   "metadata": {},
   "source": [
    "> Most of the loans have a term of 3 years (36 months)"
   ]
  },
  {
   "cell_type": "code",
   "execution_count": 30,
   "metadata": {},
   "outputs": [
    {
     "data": {
      "image/png": "[encoded data removed]",
      "text/plain": [
       "<Figure size 720x576 with 1 Axes>"
      ]
     },
     "metadata": {},
     "output_type": "display_data"
    }
   ],
   "source": [
    "# plotting the distribution of prosper score\n",
    "bins = np.arange(-0.5, loan_data['prosper_score'].max()+1.5)\n",
    "x_ticks = np.arange(0, loan_data['prosper_score'].max()+1.5)\n",
    "\n",
    "draw_histogram(loan_data, 'prosper_score', bins, x_ticks, 'Prosper Score', 'Count', 'Distribution of Prosper Score', True)"
   ]
  },
  {
   "cell_type": "code",
   "execution_count": 31,
   "metadata": {},
   "outputs": [
    {
     "data": {
      "text/plain": [
       "0     29084\n",
       "4     12595\n",
       "6     12278\n",
       "8     12053\n",
       "7     10597\n",
       "5      9813\n",
       "3      7642\n",
       "9      6911\n",
       "2      5766\n",
       "10     4750\n",
       "11     1456\n",
       "1       992\n",
       "Name: prosper_score, dtype: int64"
      ]
     },
     "execution_count": 31,
     "metadata": {},
     "output_type": "execute_result"
    }
   ],
   "source": [
    "# checking the value counts\n",
    "loan_data['prosper_score'].value_counts()"
   ]
  },
  {
   "cell_type": "markdown",
   "metadata": {},
   "source": [
    "> Prosper score ranges from 0-10 where 0 indicates high risk and 10 indicates very low/no risk. The prosper score of zero was imputed by us while handling missing data. Hence, it just implies that the score was not available and can be ignored. Next, the records with score 11 (outlier) should not be considered for further analysis. Let's remove the records having a prosper score of 11."
   ]
  },
  {
   "cell_type": "code",
   "execution_count": 32,
   "metadata": {},
   "outputs": [
    {
     "data": {
      "text/plain": [
       "(112481, 15)"
      ]
     },
     "execution_count": 32,
     "metadata": {},
     "output_type": "execute_result"
    }
   ],
   "source": [
    "# dropping records having prosper score of 11\n",
    "loan_data.drop(loan_data[loan_data.prosper_score == 11].index, inplace=True)\n",
    "loan_data.shape"
   ]
  },
  {
   "cell_type": "code",
   "execution_count": 33,
   "metadata": {},
   "outputs": [
    {
     "data": {
      "image/png": "[encoded data removed]",
      "text/plain": [
       "<Figure size 720x576 with 1 Axes>"
      ]
     },
     "metadata": {},
     "output_type": "display_data"
    }
   ],
   "source": [
    "# plotting the distribution of prosper score after zooming in to remove the outliers\n",
    "bins = np.arange(0.5, loan_data['prosper_score'].max()+1.5)\n",
    "x_ticks = np.arange(0, loan_data['prosper_score'].max()+1.5)\n",
    "\n",
    "draw_histogram(loan_data, 'prosper_score', bins, x_ticks, 'Prosper Score', 'Count', 'Distribution of Prosper Score', True)"
   ]
  },
  {
   "cell_type": "markdown",
   "metadata": {},
   "source": [
    "> Out of the valid prosper scores, the most common score is 4 and the least common score is 1 and quite a few of the loan applicants have a perfect score of 10."
   ]
  },
  {
   "cell_type": "code",
   "execution_count": 34,
   "metadata": {},
   "outputs": [
    {
     "data": {
      "image/png": "[encoded data removed]",
      "text/plain": [
       "<Figure size 720x576 with 1 Axes>"
      ]
     },
     "metadata": {},
     "output_type": "display_data"
    }
   ],
   "source": [
    "# plotting the distribution of borrower rate\n",
    "bins = np.arange(0, loan_data['borrower_rate'].max()+0.1, 0.1)\n",
    "\n",
    "draw_histogram(loan_data, 'borrower_rate', bins, bins, 'Borrower Rate', 'Count', 'Distribution of Borrower Rate', False)"
   ]
  },
  {
   "cell_type": "markdown",
   "metadata": {},
   "source": [
    "> The borrower rate is beween 0.1 and 0.2 for more than 50,000 loan applicants. This is the highest among the bins considered."
   ]
  },
  {
   "cell_type": "markdown",
   "metadata": {},
   "source": [
    "> Let's explore at the other variables to see if there are any interesting patterns"
   ]
  },
  {
   "cell_type": "code",
   "execution_count": 35,
   "metadata": {},
   "outputs": [
    {
     "data": {
      "image/png": "[encoded data removed]",
      "text/plain": [
       "<Figure size 720x576 with 1 Axes>"
      ]
     },
     "metadata": {},
     "output_type": "display_data"
    }
   ],
   "source": [
    "# plotting the distribution of loan original amount\n",
    "bins = np.arange(0, loan_data['loan_original_amount'].max()+2500, 2500)\n",
    "\n",
    "draw_histogram(loan_data, 'loan_original_amount', bins, bins, 'Loan Original Amount', 'Count', 'Distribution of Loan Original Amount', False, 30)"
   ]
  },
  {
   "cell_type": "markdown",
   "metadata": {},
   "source": [
    "> The distribution of original loan amount is unimodal with mode between 2500 and 5000"
   ]
  },
  {
   "cell_type": "code",
   "execution_count": 36,
   "metadata": {},
   "outputs": [
    {
     "data": {
      "image/png": "[encoded data removed]",
      "text/plain": [
       "<Figure size 720x576 with 1 Axes>"
      ]
     },
     "metadata": {},
     "output_type": "display_data"
    }
   ],
   "source": [
    "# plotting the distribution of listing category\n",
    "bins = np.arange(-0.5, loan_data['listing_category'].max()+1.5)\n",
    "x_ticks = np.arange(0, loan_data['listing_category'].max()+1.5)\n",
    "\n",
    "draw_histogram(loan_data, 'listing_category', bins, x_ticks, 'Listing Category', 'Count', 'Distribution of Listing Category', True)"
   ]
  },
  {
   "cell_type": "markdown",
   "metadata": {},
   "source": [
    "> The listing categories are represented using sequential numbers (in the range 0-20). The most number of loans belong to category 1 (Debt Consolidation)."
   ]
  },
  {
   "cell_type": "code",
   "execution_count": 37,
   "metadata": {},
   "outputs": [
    {
     "data": {
      "text/plain": [
       "True     56505\n",
       "False    55976\n",
       "Name: is_borrower_homeowner, dtype: int64"
      ]
     },
     "execution_count": 37,
     "metadata": {},
     "output_type": "execute_result"
    }
   ],
   "source": [
    "# getting the number of homeowners and non homeowners in the dataset\n",
    "loan_data.is_borrower_homeowner.value_counts()"
   ]
  },
  {
   "cell_type": "markdown",
   "metadata": {},
   "source": [
    "> The number of home owners is slightly higher than the number of non home owners"
   ]
  },
  {
   "cell_type": "code",
   "execution_count": 38,
   "metadata": {},
   "outputs": [
    {
     "data": {
      "text/plain": [
       "0     108264\n",
       "1       3480\n",
       "2        562\n",
       "3        108\n",
       "4         26\n",
       "5         14\n",
       "9          6\n",
       "7          5\n",
       "6          4\n",
       "8          3\n",
       "16         2\n",
       "18         2\n",
       "24         1\n",
       "14         1\n",
       "19         1\n",
       "21         1\n",
       "39         1\n",
       "Name: recommendations, dtype: int64"
      ]
     },
     "execution_count": 38,
     "metadata": {},
     "output_type": "execute_result"
    }
   ],
   "source": [
    "loan_data.recommendations.value_counts()"
   ]
  },
  {
   "cell_type": "markdown",
   "metadata": {},
   "source": [
    "> Most of the loan applicants do not have a recommendation and only a small fraction have more than 2 recommendations"
   ]
  },
  {
   "cell_type": "markdown",
   "metadata": {},
   "source": [
    "### Discuss the distribution(s) of your variable(s) of interest. Were there any unusual points? Did you need to perform any transformations?\n",
    "\n",
    "> Loan status is the variable of interest. It is of categorical type. There were no unusual points and no transformations were performed. Majority of the loans have current status while very few were cancelled.\n",
    "\n",
    "### Of the features you investigated, were there any unusual distributions? Did you perform any operations on the data to tidy, adjust, or change the form of the data? If so, why did you do this?\n",
    "\n",
    "> The prosper score can have values between 1 and 10. However, some records have a score of 11. These records were removed for safety. There were also some records with score 0. However, this was imputed during the preliminary data wrangling stage wherever there is no value available for the score."
   ]
  },
  {
   "cell_type": "markdown",
   "metadata": {},
   "source": [
    "## Bivariate Exploration\n",
    "\n",
    "> In this section, investigate relationships between pairs of variables in your\n",
    "data. Make sure the variables that you cover here have been introduced in some\n",
    "fashion in the previous section (univariate exploration)."
   ]
  },
  {
   "cell_type": "code",
   "execution_count": null,
   "metadata": {},
   "outputs": [],
   "source": []
  },
  {
   "cell_type": "markdown",
   "metadata": {},
   "source": [
    "### Talk about some of the relationships you observed in this part of the investigation. How did the feature(s) of interest vary with other features in the dataset?\n",
    "\n",
    "> Your answer here!\n",
    "\n",
    "### Did you observe any interesting relationships between the other features (not the main feature(s) of interest)?\n",
    "\n",
    "> Your answer here!"
   ]
  },
  {
   "cell_type": "markdown",
   "metadata": {},
   "source": [
    "## Multivariate Exploration\n",
    "\n",
    "> Create plots of three or more variables to investigate your data even\n",
    "further. Make sure that your investigations are justified, and follow from\n",
    "your work in the previous sections."
   ]
  },
  {
   "cell_type": "code",
   "execution_count": null,
   "metadata": {},
   "outputs": [],
   "source": []
  },
  {
   "cell_type": "markdown",
   "metadata": {},
   "source": [
    "### Talk about some of the relationships you observed in this part of the investigation. Were there features that strengthened each other in terms of looking at your feature(s) of interest?\n",
    "\n",
    "> Your answer here!\n",
    "\n",
    "### Were there any interesting or surprising interactions between features?\n",
    "\n",
    "> Your answer here!"
   ]
  },
  {
   "cell_type": "markdown",
   "metadata": {},
   "source": [
    "> At the end of your report, make sure that you export the notebook as an\n",
    "html file from the `File > Download as... > HTML` menu. Make sure you keep\n",
    "track of where the exported file goes, so you can put it in the same folder\n",
    "as this notebook for project submission. Also, make sure you remove all of\n",
    "the quote-formatted guide notes like this one before you finish your report!"
   ]
  }
 ],
 "metadata": {
  "kernelspec": {
   "display_name": "data_visualizaion",
   "language": "python",
   "name": "data_visualization"
  },
  "language_info": {
   "codemirror_mode": {
    "name": "ipython",
    "version": 3
   },
   "file_extension": ".py",
   "mimetype": "text/x-python",
   "name": "python",
   "nbconvert_exporter": "python",
   "pygments_lexer": "ipython3",
   "version": "3.6.9"
  }
 },
 "nbformat": 4,
 "nbformat_minor": 2
}
